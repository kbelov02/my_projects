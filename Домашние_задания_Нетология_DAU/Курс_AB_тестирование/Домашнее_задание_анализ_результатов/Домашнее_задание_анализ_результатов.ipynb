{
  "nbformat": 4,
  "nbformat_minor": 0,
  "metadata": {
    "colab": {
      "provenance": []
    },
    "kernelspec": {
      "name": "python3",
      "display_name": "Python 3"
    },
    "language_info": {
      "name": "python"
    }
  },
  "cells": [
    {
      "cell_type": "markdown",
      "source": [
        "Фича для анализа: \\\n",
        "Понижение коэффициента surge, чтобы увеличить price-to-order конверсию (во время surge) \\\n",
        "Ожидаем: выше price-to-order конверсия во время surge\n"
      ],
      "metadata": {
        "id": "5G0T1Uyscesi"
      }
    },
    {
      "cell_type": "code",
      "execution_count": null,
      "metadata": {
        "id": "eisQs8tgY6_J"
      },
      "outputs": [],
      "source": [
        "# подключаем необходимые библиотеки\n",
        "import pandas as pd\n",
        "import numpy as np\n",
        "import matplotlib.pyplot as plt\n",
        "import random as rnd\n",
        "import scipy.stats as stats \n",
        "from scipy.stats import ttest_ind"
      ]
    },
    {
      "cell_type": "code",
      "source": [
        "#загружаем файл с результатами проведенного теста\n",
        "df = pd.read_csv('post_abtest_data.csv', sep = ',')\n",
        "df.head(10)"
      ],
      "metadata": {
        "colab": {
          "base_uri": "https://localhost:8080/",
          "height": 363
        },
        "id": "bP_kLx8XcYlb",
        "outputId": "bd529818-7123-4cfb-aca1-1f7d0894f405"
      },
      "execution_count": null,
      "outputs": [
        {
          "output_type": "execute_result",
          "data": {
            "text/plain": [
              "   user_id        date  app_opened    group  price_seen  order_made     surge  \\\n",
              "0   867689  2020-05-28           1  Control           1           1  no surge   \n",
              "1   867689  2020-05-29           1  Control           1           0     surge   \n",
              "2   867689  2020-05-25           1  Control           1           1     surge   \n",
              "3   752172  2020-05-29           1  Control           1           1     surge   \n",
              "4   752172  2020-05-28           1  Control           1           1  no surge   \n",
              "5   486559  2020-05-25           1  Control           1           0     surge   \n",
              "6   486559  2020-05-31           1  Control           1           1  no surge   \n",
              "7   486559  2020-05-30           1  Control           1           1  no surge   \n",
              "8   486559  2020-05-28           1  Control           1           0     surge   \n",
              "9   486559  2020-05-29           1  Control           1           1  no surge   \n",
              "\n",
              "        os  user_cancelled  city_center_order   groups  \n",
              "0  Android             0.0                1.0  Control  \n",
              "1      iOS             NaN                NaN  Control  \n",
              "2  Android             0.0                0.0  Control  \n",
              "3  Android             0.0                1.0  Control  \n",
              "4      iOS             0.0                0.0  Control  \n",
              "5  Android             NaN                NaN  Control  \n",
              "6      iOS             0.0                0.0  Control  \n",
              "7  Android             0.0                0.0  Control  \n",
              "8      iOS             NaN                NaN  Control  \n",
              "9  Android             0.0                0.0  Control  "
            ],
            "text/html": [
              "\n",
              "  <div id=\"df-c67f0355-7781-4c37-956d-4d3ee08868e5\">\n",
              "    <div class=\"colab-df-container\">\n",
              "      <div>\n",
              "<style scoped>\n",
              "    .dataframe tbody tr th:only-of-type {\n",
              "        vertical-align: middle;\n",
              "    }\n",
              "\n",
              "    .dataframe tbody tr th {\n",
              "        vertical-align: top;\n",
              "    }\n",
              "\n",
              "    .dataframe thead th {\n",
              "        text-align: right;\n",
              "    }\n",
              "</style>\n",
              "<table border=\"1\" class=\"dataframe\">\n",
              "  <thead>\n",
              "    <tr style=\"text-align: right;\">\n",
              "      <th></th>\n",
              "      <th>user_id</th>\n",
              "      <th>date</th>\n",
              "      <th>app_opened</th>\n",
              "      <th>group</th>\n",
              "      <th>price_seen</th>\n",
              "      <th>order_made</th>\n",
              "      <th>surge</th>\n",
              "      <th>os</th>\n",
              "      <th>user_cancelled</th>\n",
              "      <th>city_center_order</th>\n",
              "      <th>groups</th>\n",
              "    </tr>\n",
              "  </thead>\n",
              "  <tbody>\n",
              "    <tr>\n",
              "      <th>0</th>\n",
              "      <td>867689</td>\n",
              "      <td>2020-05-28</td>\n",
              "      <td>1</td>\n",
              "      <td>Control</td>\n",
              "      <td>1</td>\n",
              "      <td>1</td>\n",
              "      <td>no surge</td>\n",
              "      <td>Android</td>\n",
              "      <td>0.0</td>\n",
              "      <td>1.0</td>\n",
              "      <td>Control</td>\n",
              "    </tr>\n",
              "    <tr>\n",
              "      <th>1</th>\n",
              "      <td>867689</td>\n",
              "      <td>2020-05-29</td>\n",
              "      <td>1</td>\n",
              "      <td>Control</td>\n",
              "      <td>1</td>\n",
              "      <td>0</td>\n",
              "      <td>surge</td>\n",
              "      <td>iOS</td>\n",
              "      <td>NaN</td>\n",
              "      <td>NaN</td>\n",
              "      <td>Control</td>\n",
              "    </tr>\n",
              "    <tr>\n",
              "      <th>2</th>\n",
              "      <td>867689</td>\n",
              "      <td>2020-05-25</td>\n",
              "      <td>1</td>\n",
              "      <td>Control</td>\n",
              "      <td>1</td>\n",
              "      <td>1</td>\n",
              "      <td>surge</td>\n",
              "      <td>Android</td>\n",
              "      <td>0.0</td>\n",
              "      <td>0.0</td>\n",
              "      <td>Control</td>\n",
              "    </tr>\n",
              "    <tr>\n",
              "      <th>3</th>\n",
              "      <td>752172</td>\n",
              "      <td>2020-05-29</td>\n",
              "      <td>1</td>\n",
              "      <td>Control</td>\n",
              "      <td>1</td>\n",
              "      <td>1</td>\n",
              "      <td>surge</td>\n",
              "      <td>Android</td>\n",
              "      <td>0.0</td>\n",
              "      <td>1.0</td>\n",
              "      <td>Control</td>\n",
              "    </tr>\n",
              "    <tr>\n",
              "      <th>4</th>\n",
              "      <td>752172</td>\n",
              "      <td>2020-05-28</td>\n",
              "      <td>1</td>\n",
              "      <td>Control</td>\n",
              "      <td>1</td>\n",
              "      <td>1</td>\n",
              "      <td>no surge</td>\n",
              "      <td>iOS</td>\n",
              "      <td>0.0</td>\n",
              "      <td>0.0</td>\n",
              "      <td>Control</td>\n",
              "    </tr>\n",
              "    <tr>\n",
              "      <th>5</th>\n",
              "      <td>486559</td>\n",
              "      <td>2020-05-25</td>\n",
              "      <td>1</td>\n",
              "      <td>Control</td>\n",
              "      <td>1</td>\n",
              "      <td>0</td>\n",
              "      <td>surge</td>\n",
              "      <td>Android</td>\n",
              "      <td>NaN</td>\n",
              "      <td>NaN</td>\n",
              "      <td>Control</td>\n",
              "    </tr>\n",
              "    <tr>\n",
              "      <th>6</th>\n",
              "      <td>486559</td>\n",
              "      <td>2020-05-31</td>\n",
              "      <td>1</td>\n",
              "      <td>Control</td>\n",
              "      <td>1</td>\n",
              "      <td>1</td>\n",
              "      <td>no surge</td>\n",
              "      <td>iOS</td>\n",
              "      <td>0.0</td>\n",
              "      <td>0.0</td>\n",
              "      <td>Control</td>\n",
              "    </tr>\n",
              "    <tr>\n",
              "      <th>7</th>\n",
              "      <td>486559</td>\n",
              "      <td>2020-05-30</td>\n",
              "      <td>1</td>\n",
              "      <td>Control</td>\n",
              "      <td>1</td>\n",
              "      <td>1</td>\n",
              "      <td>no surge</td>\n",
              "      <td>Android</td>\n",
              "      <td>0.0</td>\n",
              "      <td>0.0</td>\n",
              "      <td>Control</td>\n",
              "    </tr>\n",
              "    <tr>\n",
              "      <th>8</th>\n",
              "      <td>486559</td>\n",
              "      <td>2020-05-28</td>\n",
              "      <td>1</td>\n",
              "      <td>Control</td>\n",
              "      <td>1</td>\n",
              "      <td>0</td>\n",
              "      <td>surge</td>\n",
              "      <td>iOS</td>\n",
              "      <td>NaN</td>\n",
              "      <td>NaN</td>\n",
              "      <td>Control</td>\n",
              "    </tr>\n",
              "    <tr>\n",
              "      <th>9</th>\n",
              "      <td>486559</td>\n",
              "      <td>2020-05-29</td>\n",
              "      <td>1</td>\n",
              "      <td>Control</td>\n",
              "      <td>1</td>\n",
              "      <td>1</td>\n",
              "      <td>no surge</td>\n",
              "      <td>Android</td>\n",
              "      <td>0.0</td>\n",
              "      <td>0.0</td>\n",
              "      <td>Control</td>\n",
              "    </tr>\n",
              "  </tbody>\n",
              "</table>\n",
              "</div>\n",
              "      <button class=\"colab-df-convert\" onclick=\"convertToInteractive('df-c67f0355-7781-4c37-956d-4d3ee08868e5')\"\n",
              "              title=\"Convert this dataframe to an interactive table.\"\n",
              "              style=\"display:none;\">\n",
              "        \n",
              "  <svg xmlns=\"http://www.w3.org/2000/svg\" height=\"24px\"viewBox=\"0 0 24 24\"\n",
              "       width=\"24px\">\n",
              "    <path d=\"M0 0h24v24H0V0z\" fill=\"none\"/>\n",
              "    <path d=\"M18.56 5.44l.94 2.06.94-2.06 2.06-.94-2.06-.94-.94-2.06-.94 2.06-2.06.94zm-11 1L8.5 8.5l.94-2.06 2.06-.94-2.06-.94L8.5 2.5l-.94 2.06-2.06.94zm10 10l.94 2.06.94-2.06 2.06-.94-2.06-.94-.94-2.06-.94 2.06-2.06.94z\"/><path d=\"M17.41 7.96l-1.37-1.37c-.4-.4-.92-.59-1.43-.59-.52 0-1.04.2-1.43.59L10.3 9.45l-7.72 7.72c-.78.78-.78 2.05 0 2.83L4 21.41c.39.39.9.59 1.41.59.51 0 1.02-.2 1.41-.59l7.78-7.78 2.81-2.81c.8-.78.8-2.07 0-2.86zM5.41 20L4 18.59l7.72-7.72 1.47 1.35L5.41 20z\"/>\n",
              "  </svg>\n",
              "      </button>\n",
              "      \n",
              "  <style>\n",
              "    .colab-df-container {\n",
              "      display:flex;\n",
              "      flex-wrap:wrap;\n",
              "      gap: 12px;\n",
              "    }\n",
              "\n",
              "    .colab-df-convert {\n",
              "      background-color: #E8F0FE;\n",
              "      border: none;\n",
              "      border-radius: 50%;\n",
              "      cursor: pointer;\n",
              "      display: none;\n",
              "      fill: #1967D2;\n",
              "      height: 32px;\n",
              "      padding: 0 0 0 0;\n",
              "      width: 32px;\n",
              "    }\n",
              "\n",
              "    .colab-df-convert:hover {\n",
              "      background-color: #E2EBFA;\n",
              "      box-shadow: 0px 1px 2px rgba(60, 64, 67, 0.3), 0px 1px 3px 1px rgba(60, 64, 67, 0.15);\n",
              "      fill: #174EA6;\n",
              "    }\n",
              "\n",
              "    [theme=dark] .colab-df-convert {\n",
              "      background-color: #3B4455;\n",
              "      fill: #D2E3FC;\n",
              "    }\n",
              "\n",
              "    [theme=dark] .colab-df-convert:hover {\n",
              "      background-color: #434B5C;\n",
              "      box-shadow: 0px 1px 3px 1px rgba(0, 0, 0, 0.15);\n",
              "      filter: drop-shadow(0px 1px 2px rgba(0, 0, 0, 0.3));\n",
              "      fill: #FFFFFF;\n",
              "    }\n",
              "  </style>\n",
              "\n",
              "      <script>\n",
              "        const buttonEl =\n",
              "          document.querySelector('#df-c67f0355-7781-4c37-956d-4d3ee08868e5 button.colab-df-convert');\n",
              "        buttonEl.style.display =\n",
              "          google.colab.kernel.accessAllowed ? 'block' : 'none';\n",
              "\n",
              "        async function convertToInteractive(key) {\n",
              "          const element = document.querySelector('#df-c67f0355-7781-4c37-956d-4d3ee08868e5');\n",
              "          const dataTable =\n",
              "            await google.colab.kernel.invokeFunction('convertToInteractive',\n",
              "                                                     [key], {});\n",
              "          if (!dataTable) return;\n",
              "\n",
              "          const docLinkHtml = 'Like what you see? Visit the ' +\n",
              "            '<a target=\"_blank\" href=https://colab.research.google.com/notebooks/data_table.ipynb>data table notebook</a>'\n",
              "            + ' to learn more about interactive tables.';\n",
              "          element.innerHTML = '';\n",
              "          dataTable['output_type'] = 'display_data';\n",
              "          await google.colab.output.renderOutput(dataTable, element);\n",
              "          const docLink = document.createElement('div');\n",
              "          docLink.innerHTML = docLinkHtml;\n",
              "          element.appendChild(docLink);\n",
              "        }\n",
              "      </script>\n",
              "    </div>\n",
              "  </div>\n",
              "  "
            ]
          },
          "metadata": {},
          "execution_count": 3
        }
      ]
    },
    {
      "cell_type": "code",
      "source": [
        "df.info()"
      ],
      "metadata": {
        "colab": {
          "base_uri": "https://localhost:8080/"
        },
        "id": "AeVmRQyodq4C",
        "outputId": "18b90a52-69ff-42a5-9ec4-cbf6dc8f9c89"
      },
      "execution_count": null,
      "outputs": [
        {
          "output_type": "stream",
          "name": "stdout",
          "text": [
            "<class 'pandas.core.frame.DataFrame'>\n",
            "RangeIndex: 101500 entries, 0 to 101499\n",
            "Data columns (total 11 columns):\n",
            " #   Column             Non-Null Count   Dtype  \n",
            "---  ------             --------------   -----  \n",
            " 0   user_id            101500 non-null  int64  \n",
            " 1   date               101500 non-null  object \n",
            " 2   app_opened         101500 non-null  int64  \n",
            " 3   group              101500 non-null  object \n",
            " 4   price_seen         101500 non-null  int64  \n",
            " 5   order_made         101500 non-null  int64  \n",
            " 6   surge              92358 non-null   object \n",
            " 7   os                 101500 non-null  object \n",
            " 8   user_cancelled     70157 non-null   float64\n",
            " 9   city_center_order  70157 non-null   float64\n",
            " 10  groups             101500 non-null  object \n",
            "dtypes: float64(2), int64(4), object(5)\n",
            "memory usage: 8.5+ MB\n"
          ]
        }
      ]
    },
    {
      "cell_type": "code",
      "source": [
        "#проверим значение данных в столбеце \"surge\"\n",
        "df['surge'].unique()"
      ],
      "metadata": {
        "colab": {
          "base_uri": "https://localhost:8080/"
        },
        "id": "jcwDRRXvd0Vr",
        "outputId": "fbdc9b75-1f40-4989-bc98-d2bf6417de43"
      },
      "execution_count": null,
      "outputs": [
        {
          "output_type": "execute_result",
          "data": {
            "text/plain": [
              "array(['no surge', 'surge', nan], dtype=object)"
            ]
          },
          "metadata": {},
          "execution_count": 5
        }
      ]
    },
    {
      "cell_type": "markdown",
      "source": [
        "в датафрейме, в столбце \"surge\" наблюдается отсутствие данных \\\n",
        "проверим, повлияет ли это на нашу выборку: "
      ],
      "metadata": {
        "id": "5kG4iYcRg9Pa"
      }
    },
    {
      "cell_type": "code",
      "source": [
        "# создаем датафрейм, куда включаем все строки с отсутсвующими значениями в столбце \"surge\"\n",
        "df1 = df[(df['surge'] != 'no surge') & (df['surge'] != 'surge')]\n",
        "df1.head(100)"
      ],
      "metadata": {
        "colab": {
          "base_uri": "https://localhost:8080/",
          "height": 424
        },
        "id": "rnH132BReN-R",
        "outputId": "ffd4ee24-4d66-4666-8d03-334e70af2a9a"
      },
      "execution_count": null,
      "outputs": [
        {
          "output_type": "execute_result",
          "data": {
            "text/plain": [
              "      user_id        date  app_opened    group  price_seen  order_made surge  \\\n",
              "24     416988  2020-05-27           1  Control           0           0   NaN   \n",
              "53     811050  2020-05-25           1     Test           0           0   NaN   \n",
              "58     786923  2020-05-25           1  Control           0           0   NaN   \n",
              "60     786923  2020-05-29           1  Control           0           0   NaN   \n",
              "78     893154  2020-05-29           1     Test           0           0   NaN   \n",
              "...       ...         ...         ...      ...         ...         ...   ...   \n",
              "1118   160702  2020-05-26           1  Control           0           0   NaN   \n",
              "1127   173821  2020-05-28           1     Test           0           0   NaN   \n",
              "1132   254615  2020-05-30           1     Test           0           0   NaN   \n",
              "1142   535425  2020-05-29           1     Test           0           0   NaN   \n",
              "1147   518523  2020-05-30           1     Test           0           0   NaN   \n",
              "\n",
              "           os  user_cancelled  city_center_order   groups  \n",
              "24        iOS             NaN                NaN  Control  \n",
              "53    Android             NaN                NaN     Test  \n",
              "58    Android             NaN                NaN  Control  \n",
              "60    Android             NaN                NaN  Control  \n",
              "78        iOS             NaN                NaN     Test  \n",
              "...       ...             ...                ...      ...  \n",
              "1118  Android             NaN                NaN  Control  \n",
              "1127      iOS             NaN                NaN     Test  \n",
              "1132      iOS             NaN                NaN     Test  \n",
              "1142  Android             NaN                NaN     Test  \n",
              "1147  Android             NaN                NaN     Test  \n",
              "\n",
              "[100 rows x 11 columns]"
            ],
            "text/html": [
              "\n",
              "  <div id=\"df-a317a958-fef1-49af-8323-518ce5035c2e\">\n",
              "    <div class=\"colab-df-container\">\n",
              "      <div>\n",
              "<style scoped>\n",
              "    .dataframe tbody tr th:only-of-type {\n",
              "        vertical-align: middle;\n",
              "    }\n",
              "\n",
              "    .dataframe tbody tr th {\n",
              "        vertical-align: top;\n",
              "    }\n",
              "\n",
              "    .dataframe thead th {\n",
              "        text-align: right;\n",
              "    }\n",
              "</style>\n",
              "<table border=\"1\" class=\"dataframe\">\n",
              "  <thead>\n",
              "    <tr style=\"text-align: right;\">\n",
              "      <th></th>\n",
              "      <th>user_id</th>\n",
              "      <th>date</th>\n",
              "      <th>app_opened</th>\n",
              "      <th>group</th>\n",
              "      <th>price_seen</th>\n",
              "      <th>order_made</th>\n",
              "      <th>surge</th>\n",
              "      <th>os</th>\n",
              "      <th>user_cancelled</th>\n",
              "      <th>city_center_order</th>\n",
              "      <th>groups</th>\n",
              "    </tr>\n",
              "  </thead>\n",
              "  <tbody>\n",
              "    <tr>\n",
              "      <th>24</th>\n",
              "      <td>416988</td>\n",
              "      <td>2020-05-27</td>\n",
              "      <td>1</td>\n",
              "      <td>Control</td>\n",
              "      <td>0</td>\n",
              "      <td>0</td>\n",
              "      <td>NaN</td>\n",
              "      <td>iOS</td>\n",
              "      <td>NaN</td>\n",
              "      <td>NaN</td>\n",
              "      <td>Control</td>\n",
              "    </tr>\n",
              "    <tr>\n",
              "      <th>53</th>\n",
              "      <td>811050</td>\n",
              "      <td>2020-05-25</td>\n",
              "      <td>1</td>\n",
              "      <td>Test</td>\n",
              "      <td>0</td>\n",
              "      <td>0</td>\n",
              "      <td>NaN</td>\n",
              "      <td>Android</td>\n",
              "      <td>NaN</td>\n",
              "      <td>NaN</td>\n",
              "      <td>Test</td>\n",
              "    </tr>\n",
              "    <tr>\n",
              "      <th>58</th>\n",
              "      <td>786923</td>\n",
              "      <td>2020-05-25</td>\n",
              "      <td>1</td>\n",
              "      <td>Control</td>\n",
              "      <td>0</td>\n",
              "      <td>0</td>\n",
              "      <td>NaN</td>\n",
              "      <td>Android</td>\n",
              "      <td>NaN</td>\n",
              "      <td>NaN</td>\n",
              "      <td>Control</td>\n",
              "    </tr>\n",
              "    <tr>\n",
              "      <th>60</th>\n",
              "      <td>786923</td>\n",
              "      <td>2020-05-29</td>\n",
              "      <td>1</td>\n",
              "      <td>Control</td>\n",
              "      <td>0</td>\n",
              "      <td>0</td>\n",
              "      <td>NaN</td>\n",
              "      <td>Android</td>\n",
              "      <td>NaN</td>\n",
              "      <td>NaN</td>\n",
              "      <td>Control</td>\n",
              "    </tr>\n",
              "    <tr>\n",
              "      <th>78</th>\n",
              "      <td>893154</td>\n",
              "      <td>2020-05-29</td>\n",
              "      <td>1</td>\n",
              "      <td>Test</td>\n",
              "      <td>0</td>\n",
              "      <td>0</td>\n",
              "      <td>NaN</td>\n",
              "      <td>iOS</td>\n",
              "      <td>NaN</td>\n",
              "      <td>NaN</td>\n",
              "      <td>Test</td>\n",
              "    </tr>\n",
              "    <tr>\n",
              "      <th>...</th>\n",
              "      <td>...</td>\n",
              "      <td>...</td>\n",
              "      <td>...</td>\n",
              "      <td>...</td>\n",
              "      <td>...</td>\n",
              "      <td>...</td>\n",
              "      <td>...</td>\n",
              "      <td>...</td>\n",
              "      <td>...</td>\n",
              "      <td>...</td>\n",
              "      <td>...</td>\n",
              "    </tr>\n",
              "    <tr>\n",
              "      <th>1118</th>\n",
              "      <td>160702</td>\n",
              "      <td>2020-05-26</td>\n",
              "      <td>1</td>\n",
              "      <td>Control</td>\n",
              "      <td>0</td>\n",
              "      <td>0</td>\n",
              "      <td>NaN</td>\n",
              "      <td>Android</td>\n",
              "      <td>NaN</td>\n",
              "      <td>NaN</td>\n",
              "      <td>Control</td>\n",
              "    </tr>\n",
              "    <tr>\n",
              "      <th>1127</th>\n",
              "      <td>173821</td>\n",
              "      <td>2020-05-28</td>\n",
              "      <td>1</td>\n",
              "      <td>Test</td>\n",
              "      <td>0</td>\n",
              "      <td>0</td>\n",
              "      <td>NaN</td>\n",
              "      <td>iOS</td>\n",
              "      <td>NaN</td>\n",
              "      <td>NaN</td>\n",
              "      <td>Test</td>\n",
              "    </tr>\n",
              "    <tr>\n",
              "      <th>1132</th>\n",
              "      <td>254615</td>\n",
              "      <td>2020-05-30</td>\n",
              "      <td>1</td>\n",
              "      <td>Test</td>\n",
              "      <td>0</td>\n",
              "      <td>0</td>\n",
              "      <td>NaN</td>\n",
              "      <td>iOS</td>\n",
              "      <td>NaN</td>\n",
              "      <td>NaN</td>\n",
              "      <td>Test</td>\n",
              "    </tr>\n",
              "    <tr>\n",
              "      <th>1142</th>\n",
              "      <td>535425</td>\n",
              "      <td>2020-05-29</td>\n",
              "      <td>1</td>\n",
              "      <td>Test</td>\n",
              "      <td>0</td>\n",
              "      <td>0</td>\n",
              "      <td>NaN</td>\n",
              "      <td>Android</td>\n",
              "      <td>NaN</td>\n",
              "      <td>NaN</td>\n",
              "      <td>Test</td>\n",
              "    </tr>\n",
              "    <tr>\n",
              "      <th>1147</th>\n",
              "      <td>518523</td>\n",
              "      <td>2020-05-30</td>\n",
              "      <td>1</td>\n",
              "      <td>Test</td>\n",
              "      <td>0</td>\n",
              "      <td>0</td>\n",
              "      <td>NaN</td>\n",
              "      <td>Android</td>\n",
              "      <td>NaN</td>\n",
              "      <td>NaN</td>\n",
              "      <td>Test</td>\n",
              "    </tr>\n",
              "  </tbody>\n",
              "</table>\n",
              "<p>100 rows × 11 columns</p>\n",
              "</div>\n",
              "      <button class=\"colab-df-convert\" onclick=\"convertToInteractive('df-a317a958-fef1-49af-8323-518ce5035c2e')\"\n",
              "              title=\"Convert this dataframe to an interactive table.\"\n",
              "              style=\"display:none;\">\n",
              "        \n",
              "  <svg xmlns=\"http://www.w3.org/2000/svg\" height=\"24px\"viewBox=\"0 0 24 24\"\n",
              "       width=\"24px\">\n",
              "    <path d=\"M0 0h24v24H0V0z\" fill=\"none\"/>\n",
              "    <path d=\"M18.56 5.44l.94 2.06.94-2.06 2.06-.94-2.06-.94-.94-2.06-.94 2.06-2.06.94zm-11 1L8.5 8.5l.94-2.06 2.06-.94-2.06-.94L8.5 2.5l-.94 2.06-2.06.94zm10 10l.94 2.06.94-2.06 2.06-.94-2.06-.94-.94-2.06-.94 2.06-2.06.94z\"/><path d=\"M17.41 7.96l-1.37-1.37c-.4-.4-.92-.59-1.43-.59-.52 0-1.04.2-1.43.59L10.3 9.45l-7.72 7.72c-.78.78-.78 2.05 0 2.83L4 21.41c.39.39.9.59 1.41.59.51 0 1.02-.2 1.41-.59l7.78-7.78 2.81-2.81c.8-.78.8-2.07 0-2.86zM5.41 20L4 18.59l7.72-7.72 1.47 1.35L5.41 20z\"/>\n",
              "  </svg>\n",
              "      </button>\n",
              "      \n",
              "  <style>\n",
              "    .colab-df-container {\n",
              "      display:flex;\n",
              "      flex-wrap:wrap;\n",
              "      gap: 12px;\n",
              "    }\n",
              "\n",
              "    .colab-df-convert {\n",
              "      background-color: #E8F0FE;\n",
              "      border: none;\n",
              "      border-radius: 50%;\n",
              "      cursor: pointer;\n",
              "      display: none;\n",
              "      fill: #1967D2;\n",
              "      height: 32px;\n",
              "      padding: 0 0 0 0;\n",
              "      width: 32px;\n",
              "    }\n",
              "\n",
              "    .colab-df-convert:hover {\n",
              "      background-color: #E2EBFA;\n",
              "      box-shadow: 0px 1px 2px rgba(60, 64, 67, 0.3), 0px 1px 3px 1px rgba(60, 64, 67, 0.15);\n",
              "      fill: #174EA6;\n",
              "    }\n",
              "\n",
              "    [theme=dark] .colab-df-convert {\n",
              "      background-color: #3B4455;\n",
              "      fill: #D2E3FC;\n",
              "    }\n",
              "\n",
              "    [theme=dark] .colab-df-convert:hover {\n",
              "      background-color: #434B5C;\n",
              "      box-shadow: 0px 1px 3px 1px rgba(0, 0, 0, 0.15);\n",
              "      filter: drop-shadow(0px 1px 2px rgba(0, 0, 0, 0.3));\n",
              "      fill: #FFFFFF;\n",
              "    }\n",
              "  </style>\n",
              "\n",
              "      <script>\n",
              "        const buttonEl =\n",
              "          document.querySelector('#df-a317a958-fef1-49af-8323-518ce5035c2e button.colab-df-convert');\n",
              "        buttonEl.style.display =\n",
              "          google.colab.kernel.accessAllowed ? 'block' : 'none';\n",
              "\n",
              "        async function convertToInteractive(key) {\n",
              "          const element = document.querySelector('#df-a317a958-fef1-49af-8323-518ce5035c2e');\n",
              "          const dataTable =\n",
              "            await google.colab.kernel.invokeFunction('convertToInteractive',\n",
              "                                                     [key], {});\n",
              "          if (!dataTable) return;\n",
              "\n",
              "          const docLinkHtml = 'Like what you see? Visit the ' +\n",
              "            '<a target=\"_blank\" href=https://colab.research.google.com/notebooks/data_table.ipynb>data table notebook</a>'\n",
              "            + ' to learn more about interactive tables.';\n",
              "          element.innerHTML = '';\n",
              "          dataTable['output_type'] = 'display_data';\n",
              "          await google.colab.output.renderOutput(dataTable, element);\n",
              "          const docLink = document.createElement('div');\n",
              "          docLink.innerHTML = docLinkHtml;\n",
              "          element.appendChild(docLink);\n",
              "        }\n",
              "      </script>\n",
              "    </div>\n",
              "  </div>\n",
              "  "
            ]
          },
          "metadata": {},
          "execution_count": 12
        }
      ]
    },
    {
      "cell_type": "code",
      "source": [
        "# выводим уникальные значения в столбце \"app_opened\"\n",
        "df1['app_opened'].unique()"
      ],
      "metadata": {
        "colab": {
          "base_uri": "https://localhost:8080/"
        },
        "id": "d5MQA88NglgL",
        "outputId": "563d7bf7-85bd-4e5f-8d7b-53506cb45c77"
      },
      "execution_count": null,
      "outputs": [
        {
          "output_type": "execute_result",
          "data": {
            "text/plain": [
              "array([1])"
            ]
          },
          "metadata": {},
          "execution_count": 13
        }
      ]
    },
    {
      "cell_type": "code",
      "source": [
        "# выводим уникальные значения в столбце \"price_seen\"\n",
        "df1['price_seen'].unique()"
      ],
      "metadata": {
        "colab": {
          "base_uri": "https://localhost:8080/"
        },
        "id": "-sxejviXgtSR",
        "outputId": "e803de99-59af-404a-ed21-23f579767f74"
      },
      "execution_count": null,
      "outputs": [
        {
          "output_type": "execute_result",
          "data": {
            "text/plain": [
              "array([0])"
            ]
          },
          "metadata": {},
          "execution_count": 14
        }
      ]
    },
    {
      "cell_type": "code",
      "source": [
        "# выводим уникальные значения в столбце \"order_made\"\n",
        "df1['order_made'].unique()"
      ],
      "metadata": {
        "colab": {
          "base_uri": "https://localhost:8080/"
        },
        "id": "7skL34T_g0ho",
        "outputId": "a8611191-2959-4a4e-ffd7-a83f9a9e60b0"
      },
      "execution_count": null,
      "outputs": [
        {
          "output_type": "execute_result",
          "data": {
            "text/plain": [
              "array([0])"
            ]
          },
          "metadata": {},
          "execution_count": 15
        }
      ]
    },
    {
      "cell_type": "markdown",
      "source": [
        "вывод: пустые значения в столбце \"surge\" на нашу выборку не повлияют - это не аномалия и не ошибка в данных. Строки с пустыми значениями в столбце \"surge\" отфильтруются по условию далее"
      ],
      "metadata": {
        "id": "xqjPniY3hxKZ"
      }
    },
    {
      "cell_type": "code",
      "source": [
        "#фильтруем данные по пользователям, которые увидели цену в период высокого спроса\n",
        "df_surge_ps = df[(df['surge'] == 'surge') & (df['price_seen'] == 1)]\n",
        "df_surge_ps.head()"
      ],
      "metadata": {
        "colab": {
          "base_uri": "https://localhost:8080/",
          "height": 206
        },
        "id": "GwwYjpnRiOuR",
        "outputId": "10f9380a-a8d2-4a49-866e-da4f06ed3189"
      },
      "execution_count": null,
      "outputs": [
        {
          "output_type": "execute_result",
          "data": {
            "text/plain": [
              "   user_id        date  app_opened    group  price_seen  order_made  surge  \\\n",
              "1   867689  2020-05-29           1  Control           1           0  surge   \n",
              "2   867689  2020-05-25           1  Control           1           1  surge   \n",
              "3   752172  2020-05-29           1  Control           1           1  surge   \n",
              "5   486559  2020-05-25           1  Control           1           0  surge   \n",
              "8   486559  2020-05-28           1  Control           1           0  surge   \n",
              "\n",
              "        os  user_cancelled  city_center_order   groups  \n",
              "1      iOS             NaN                NaN  Control  \n",
              "2  Android             0.0                0.0  Control  \n",
              "3  Android             0.0                1.0  Control  \n",
              "5  Android             NaN                NaN  Control  \n",
              "8      iOS             NaN                NaN  Control  "
            ],
            "text/html": [
              "\n",
              "  <div id=\"df-9e3332b3-0b6e-4600-9a07-ed586c61f283\">\n",
              "    <div class=\"colab-df-container\">\n",
              "      <div>\n",
              "<style scoped>\n",
              "    .dataframe tbody tr th:only-of-type {\n",
              "        vertical-align: middle;\n",
              "    }\n",
              "\n",
              "    .dataframe tbody tr th {\n",
              "        vertical-align: top;\n",
              "    }\n",
              "\n",
              "    .dataframe thead th {\n",
              "        text-align: right;\n",
              "    }\n",
              "</style>\n",
              "<table border=\"1\" class=\"dataframe\">\n",
              "  <thead>\n",
              "    <tr style=\"text-align: right;\">\n",
              "      <th></th>\n",
              "      <th>user_id</th>\n",
              "      <th>date</th>\n",
              "      <th>app_opened</th>\n",
              "      <th>group</th>\n",
              "      <th>price_seen</th>\n",
              "      <th>order_made</th>\n",
              "      <th>surge</th>\n",
              "      <th>os</th>\n",
              "      <th>user_cancelled</th>\n",
              "      <th>city_center_order</th>\n",
              "      <th>groups</th>\n",
              "    </tr>\n",
              "  </thead>\n",
              "  <tbody>\n",
              "    <tr>\n",
              "      <th>1</th>\n",
              "      <td>867689</td>\n",
              "      <td>2020-05-29</td>\n",
              "      <td>1</td>\n",
              "      <td>Control</td>\n",
              "      <td>1</td>\n",
              "      <td>0</td>\n",
              "      <td>surge</td>\n",
              "      <td>iOS</td>\n",
              "      <td>NaN</td>\n",
              "      <td>NaN</td>\n",
              "      <td>Control</td>\n",
              "    </tr>\n",
              "    <tr>\n",
              "      <th>2</th>\n",
              "      <td>867689</td>\n",
              "      <td>2020-05-25</td>\n",
              "      <td>1</td>\n",
              "      <td>Control</td>\n",
              "      <td>1</td>\n",
              "      <td>1</td>\n",
              "      <td>surge</td>\n",
              "      <td>Android</td>\n",
              "      <td>0.0</td>\n",
              "      <td>0.0</td>\n",
              "      <td>Control</td>\n",
              "    </tr>\n",
              "    <tr>\n",
              "      <th>3</th>\n",
              "      <td>752172</td>\n",
              "      <td>2020-05-29</td>\n",
              "      <td>1</td>\n",
              "      <td>Control</td>\n",
              "      <td>1</td>\n",
              "      <td>1</td>\n",
              "      <td>surge</td>\n",
              "      <td>Android</td>\n",
              "      <td>0.0</td>\n",
              "      <td>1.0</td>\n",
              "      <td>Control</td>\n",
              "    </tr>\n",
              "    <tr>\n",
              "      <th>5</th>\n",
              "      <td>486559</td>\n",
              "      <td>2020-05-25</td>\n",
              "      <td>1</td>\n",
              "      <td>Control</td>\n",
              "      <td>1</td>\n",
              "      <td>0</td>\n",
              "      <td>surge</td>\n",
              "      <td>Android</td>\n",
              "      <td>NaN</td>\n",
              "      <td>NaN</td>\n",
              "      <td>Control</td>\n",
              "    </tr>\n",
              "    <tr>\n",
              "      <th>8</th>\n",
              "      <td>486559</td>\n",
              "      <td>2020-05-28</td>\n",
              "      <td>1</td>\n",
              "      <td>Control</td>\n",
              "      <td>1</td>\n",
              "      <td>0</td>\n",
              "      <td>surge</td>\n",
              "      <td>iOS</td>\n",
              "      <td>NaN</td>\n",
              "      <td>NaN</td>\n",
              "      <td>Control</td>\n",
              "    </tr>\n",
              "  </tbody>\n",
              "</table>\n",
              "</div>\n",
              "      <button class=\"colab-df-convert\" onclick=\"convertToInteractive('df-9e3332b3-0b6e-4600-9a07-ed586c61f283')\"\n",
              "              title=\"Convert this dataframe to an interactive table.\"\n",
              "              style=\"display:none;\">\n",
              "        \n",
              "  <svg xmlns=\"http://www.w3.org/2000/svg\" height=\"24px\"viewBox=\"0 0 24 24\"\n",
              "       width=\"24px\">\n",
              "    <path d=\"M0 0h24v24H0V0z\" fill=\"none\"/>\n",
              "    <path d=\"M18.56 5.44l.94 2.06.94-2.06 2.06-.94-2.06-.94-.94-2.06-.94 2.06-2.06.94zm-11 1L8.5 8.5l.94-2.06 2.06-.94-2.06-.94L8.5 2.5l-.94 2.06-2.06.94zm10 10l.94 2.06.94-2.06 2.06-.94-2.06-.94-.94-2.06-.94 2.06-2.06.94z\"/><path d=\"M17.41 7.96l-1.37-1.37c-.4-.4-.92-.59-1.43-.59-.52 0-1.04.2-1.43.59L10.3 9.45l-7.72 7.72c-.78.78-.78 2.05 0 2.83L4 21.41c.39.39.9.59 1.41.59.51 0 1.02-.2 1.41-.59l7.78-7.78 2.81-2.81c.8-.78.8-2.07 0-2.86zM5.41 20L4 18.59l7.72-7.72 1.47 1.35L5.41 20z\"/>\n",
              "  </svg>\n",
              "      </button>\n",
              "      \n",
              "  <style>\n",
              "    .colab-df-container {\n",
              "      display:flex;\n",
              "      flex-wrap:wrap;\n",
              "      gap: 12px;\n",
              "    }\n",
              "\n",
              "    .colab-df-convert {\n",
              "      background-color: #E8F0FE;\n",
              "      border: none;\n",
              "      border-radius: 50%;\n",
              "      cursor: pointer;\n",
              "      display: none;\n",
              "      fill: #1967D2;\n",
              "      height: 32px;\n",
              "      padding: 0 0 0 0;\n",
              "      width: 32px;\n",
              "    }\n",
              "\n",
              "    .colab-df-convert:hover {\n",
              "      background-color: #E2EBFA;\n",
              "      box-shadow: 0px 1px 2px rgba(60, 64, 67, 0.3), 0px 1px 3px 1px rgba(60, 64, 67, 0.15);\n",
              "      fill: #174EA6;\n",
              "    }\n",
              "\n",
              "    [theme=dark] .colab-df-convert {\n",
              "      background-color: #3B4455;\n",
              "      fill: #D2E3FC;\n",
              "    }\n",
              "\n",
              "    [theme=dark] .colab-df-convert:hover {\n",
              "      background-color: #434B5C;\n",
              "      box-shadow: 0px 1px 3px 1px rgba(0, 0, 0, 0.15);\n",
              "      filter: drop-shadow(0px 1px 2px rgba(0, 0, 0, 0.3));\n",
              "      fill: #FFFFFF;\n",
              "    }\n",
              "  </style>\n",
              "\n",
              "      <script>\n",
              "        const buttonEl =\n",
              "          document.querySelector('#df-9e3332b3-0b6e-4600-9a07-ed586c61f283 button.colab-df-convert');\n",
              "        buttonEl.style.display =\n",
              "          google.colab.kernel.accessAllowed ? 'block' : 'none';\n",
              "\n",
              "        async function convertToInteractive(key) {\n",
              "          const element = document.querySelector('#df-9e3332b3-0b6e-4600-9a07-ed586c61f283');\n",
              "          const dataTable =\n",
              "            await google.colab.kernel.invokeFunction('convertToInteractive',\n",
              "                                                     [key], {});\n",
              "          if (!dataTable) return;\n",
              "\n",
              "          const docLinkHtml = 'Like what you see? Visit the ' +\n",
              "            '<a target=\"_blank\" href=https://colab.research.google.com/notebooks/data_table.ipynb>data table notebook</a>'\n",
              "            + ' to learn more about interactive tables.';\n",
              "          element.innerHTML = '';\n",
              "          dataTable['output_type'] = 'display_data';\n",
              "          await google.colab.output.renderOutput(dataTable, element);\n",
              "          const docLink = document.createElement('div');\n",
              "          docLink.innerHTML = docLinkHtml;\n",
              "          element.appendChild(docLink);\n",
              "        }\n",
              "      </script>\n",
              "    </div>\n",
              "  </div>\n",
              "  "
            ]
          },
          "metadata": {},
          "execution_count": 16
        }
      ]
    },
    {
      "cell_type": "code",
      "source": [
        "# проверим датафрейм на пропуски в данных\n",
        "df_surge_ps.info()"
      ],
      "metadata": {
        "colab": {
          "base_uri": "https://localhost:8080/"
        },
        "id": "zYVb2yPBoirH",
        "outputId": "83456aed-4b89-49b5-c396-5e0aeb0b87ea"
      },
      "execution_count": null,
      "outputs": [
        {
          "output_type": "stream",
          "name": "stdout",
          "text": [
            "<class 'pandas.core.frame.DataFrame'>\n",
            "Int64Index: 28752 entries, 1 to 101498\n",
            "Data columns (total 11 columns):\n",
            " #   Column             Non-Null Count  Dtype  \n",
            "---  ------             --------------  -----  \n",
            " 0   user_id            28752 non-null  int64  \n",
            " 1   date               28752 non-null  object \n",
            " 2   app_opened         28752 non-null  int64  \n",
            " 3   group              28752 non-null  object \n",
            " 4   price_seen         28752 non-null  int64  \n",
            " 5   order_made         28752 non-null  int64  \n",
            " 6   surge              28752 non-null  object \n",
            " 7   os                 28752 non-null  object \n",
            " 8   user_cancelled     17513 non-null  float64\n",
            " 9   city_center_order  17513 non-null  float64\n",
            " 10  groups             28752 non-null  object \n",
            "dtypes: float64(2), int64(4), object(5)\n",
            "memory usage: 2.6+ MB\n"
          ]
        }
      ]
    },
    {
      "cell_type": "markdown",
      "source": [
        "наблюдаются пропуски в данных в столбцах \"user_cancelled\" и \"city_center_order\", но для нашего анализа это некритично, так как мы проверяем конверсию из price_seen в order_made"
      ],
      "metadata": {
        "id": "rAJQCO6DoxJW"
      }
    },
    {
      "cell_type": "code",
      "source": [
        "#сгруппируем датафрейм по пользователю, дате, группе и выведем среднюю конверсию нажатия кнопки совершения заказа\n",
        "df_mean_conv = df_surge_ps.groupby(['user_id', 'group', 'date'])['order_made'].mean().reset_index()\n",
        "df_mean_conv"
      ],
      "metadata": {
        "colab": {
          "base_uri": "https://localhost:8080/",
          "height": 424
        },
        "id": "GLIscQa3pErP",
        "outputId": "9d11bcc8-800c-46e4-ddd4-2630227191bd"
      },
      "execution_count": null,
      "outputs": [
        {
          "output_type": "execute_result",
          "data": {
            "text/plain": [
              "       user_id    group        date  order_made\n",
              "0       100093     Test  2020-05-25         1.0\n",
              "1       100093     Test  2020-05-30         1.0\n",
              "2       100134     Test  2020-05-27         1.0\n",
              "3       100166  Control  2020-05-27         1.0\n",
              "4       100166  Control  2020-05-31         0.0\n",
              "...        ...      ...         ...         ...\n",
              "26470   999878     Test  2020-05-28         0.0\n",
              "26471   999878     Test  2020-05-29         1.0\n",
              "26472   999945     Test  2020-05-25         0.0\n",
              "26473   999978  Control  2020-05-30         1.0\n",
              "26474   999978  Control  2020-05-31         1.0\n",
              "\n",
              "[26475 rows x 4 columns]"
            ],
            "text/html": [
              "\n",
              "  <div id=\"df-7f5b788b-0c6f-40be-a672-0faf4cffe1e9\">\n",
              "    <div class=\"colab-df-container\">\n",
              "      <div>\n",
              "<style scoped>\n",
              "    .dataframe tbody tr th:only-of-type {\n",
              "        vertical-align: middle;\n",
              "    }\n",
              "\n",
              "    .dataframe tbody tr th {\n",
              "        vertical-align: top;\n",
              "    }\n",
              "\n",
              "    .dataframe thead th {\n",
              "        text-align: right;\n",
              "    }\n",
              "</style>\n",
              "<table border=\"1\" class=\"dataframe\">\n",
              "  <thead>\n",
              "    <tr style=\"text-align: right;\">\n",
              "      <th></th>\n",
              "      <th>user_id</th>\n",
              "      <th>group</th>\n",
              "      <th>date</th>\n",
              "      <th>order_made</th>\n",
              "    </tr>\n",
              "  </thead>\n",
              "  <tbody>\n",
              "    <tr>\n",
              "      <th>0</th>\n",
              "      <td>100093</td>\n",
              "      <td>Test</td>\n",
              "      <td>2020-05-25</td>\n",
              "      <td>1.0</td>\n",
              "    </tr>\n",
              "    <tr>\n",
              "      <th>1</th>\n",
              "      <td>100093</td>\n",
              "      <td>Test</td>\n",
              "      <td>2020-05-30</td>\n",
              "      <td>1.0</td>\n",
              "    </tr>\n",
              "    <tr>\n",
              "      <th>2</th>\n",
              "      <td>100134</td>\n",
              "      <td>Test</td>\n",
              "      <td>2020-05-27</td>\n",
              "      <td>1.0</td>\n",
              "    </tr>\n",
              "    <tr>\n",
              "      <th>3</th>\n",
              "      <td>100166</td>\n",
              "      <td>Control</td>\n",
              "      <td>2020-05-27</td>\n",
              "      <td>1.0</td>\n",
              "    </tr>\n",
              "    <tr>\n",
              "      <th>4</th>\n",
              "      <td>100166</td>\n",
              "      <td>Control</td>\n",
              "      <td>2020-05-31</td>\n",
              "      <td>0.0</td>\n",
              "    </tr>\n",
              "    <tr>\n",
              "      <th>...</th>\n",
              "      <td>...</td>\n",
              "      <td>...</td>\n",
              "      <td>...</td>\n",
              "      <td>...</td>\n",
              "    </tr>\n",
              "    <tr>\n",
              "      <th>26470</th>\n",
              "      <td>999878</td>\n",
              "      <td>Test</td>\n",
              "      <td>2020-05-28</td>\n",
              "      <td>0.0</td>\n",
              "    </tr>\n",
              "    <tr>\n",
              "      <th>26471</th>\n",
              "      <td>999878</td>\n",
              "      <td>Test</td>\n",
              "      <td>2020-05-29</td>\n",
              "      <td>1.0</td>\n",
              "    </tr>\n",
              "    <tr>\n",
              "      <th>26472</th>\n",
              "      <td>999945</td>\n",
              "      <td>Test</td>\n",
              "      <td>2020-05-25</td>\n",
              "      <td>0.0</td>\n",
              "    </tr>\n",
              "    <tr>\n",
              "      <th>26473</th>\n",
              "      <td>999978</td>\n",
              "      <td>Control</td>\n",
              "      <td>2020-05-30</td>\n",
              "      <td>1.0</td>\n",
              "    </tr>\n",
              "    <tr>\n",
              "      <th>26474</th>\n",
              "      <td>999978</td>\n",
              "      <td>Control</td>\n",
              "      <td>2020-05-31</td>\n",
              "      <td>1.0</td>\n",
              "    </tr>\n",
              "  </tbody>\n",
              "</table>\n",
              "<p>26475 rows × 4 columns</p>\n",
              "</div>\n",
              "      <button class=\"colab-df-convert\" onclick=\"convertToInteractive('df-7f5b788b-0c6f-40be-a672-0faf4cffe1e9')\"\n",
              "              title=\"Convert this dataframe to an interactive table.\"\n",
              "              style=\"display:none;\">\n",
              "        \n",
              "  <svg xmlns=\"http://www.w3.org/2000/svg\" height=\"24px\"viewBox=\"0 0 24 24\"\n",
              "       width=\"24px\">\n",
              "    <path d=\"M0 0h24v24H0V0z\" fill=\"none\"/>\n",
              "    <path d=\"M18.56 5.44l.94 2.06.94-2.06 2.06-.94-2.06-.94-.94-2.06-.94 2.06-2.06.94zm-11 1L8.5 8.5l.94-2.06 2.06-.94-2.06-.94L8.5 2.5l-.94 2.06-2.06.94zm10 10l.94 2.06.94-2.06 2.06-.94-2.06-.94-.94-2.06-.94 2.06-2.06.94z\"/><path d=\"M17.41 7.96l-1.37-1.37c-.4-.4-.92-.59-1.43-.59-.52 0-1.04.2-1.43.59L10.3 9.45l-7.72 7.72c-.78.78-.78 2.05 0 2.83L4 21.41c.39.39.9.59 1.41.59.51 0 1.02-.2 1.41-.59l7.78-7.78 2.81-2.81c.8-.78.8-2.07 0-2.86zM5.41 20L4 18.59l7.72-7.72 1.47 1.35L5.41 20z\"/>\n",
              "  </svg>\n",
              "      </button>\n",
              "      \n",
              "  <style>\n",
              "    .colab-df-container {\n",
              "      display:flex;\n",
              "      flex-wrap:wrap;\n",
              "      gap: 12px;\n",
              "    }\n",
              "\n",
              "    .colab-df-convert {\n",
              "      background-color: #E8F0FE;\n",
              "      border: none;\n",
              "      border-radius: 50%;\n",
              "      cursor: pointer;\n",
              "      display: none;\n",
              "      fill: #1967D2;\n",
              "      height: 32px;\n",
              "      padding: 0 0 0 0;\n",
              "      width: 32px;\n",
              "    }\n",
              "\n",
              "    .colab-df-convert:hover {\n",
              "      background-color: #E2EBFA;\n",
              "      box-shadow: 0px 1px 2px rgba(60, 64, 67, 0.3), 0px 1px 3px 1px rgba(60, 64, 67, 0.15);\n",
              "      fill: #174EA6;\n",
              "    }\n",
              "\n",
              "    [theme=dark] .colab-df-convert {\n",
              "      background-color: #3B4455;\n",
              "      fill: #D2E3FC;\n",
              "    }\n",
              "\n",
              "    [theme=dark] .colab-df-convert:hover {\n",
              "      background-color: #434B5C;\n",
              "      box-shadow: 0px 1px 3px 1px rgba(0, 0, 0, 0.15);\n",
              "      filter: drop-shadow(0px 1px 2px rgba(0, 0, 0, 0.3));\n",
              "      fill: #FFFFFF;\n",
              "    }\n",
              "  </style>\n",
              "\n",
              "      <script>\n",
              "        const buttonEl =\n",
              "          document.querySelector('#df-7f5b788b-0c6f-40be-a672-0faf4cffe1e9 button.colab-df-convert');\n",
              "        buttonEl.style.display =\n",
              "          google.colab.kernel.accessAllowed ? 'block' : 'none';\n",
              "\n",
              "        async function convertToInteractive(key) {\n",
              "          const element = document.querySelector('#df-7f5b788b-0c6f-40be-a672-0faf4cffe1e9');\n",
              "          const dataTable =\n",
              "            await google.colab.kernel.invokeFunction('convertToInteractive',\n",
              "                                                     [key], {});\n",
              "          if (!dataTable) return;\n",
              "\n",
              "          const docLinkHtml = 'Like what you see? Visit the ' +\n",
              "            '<a target=\"_blank\" href=https://colab.research.google.com/notebooks/data_table.ipynb>data table notebook</a>'\n",
              "            + ' to learn more about interactive tables.';\n",
              "          element.innerHTML = '';\n",
              "          dataTable['output_type'] = 'display_data';\n",
              "          await google.colab.output.renderOutput(dataTable, element);\n",
              "          const docLink = document.createElement('div');\n",
              "          docLink.innerHTML = docLinkHtml;\n",
              "          element.appendChild(docLink);\n",
              "        }\n",
              "      </script>\n",
              "    </div>\n",
              "  </div>\n",
              "  "
            ]
          },
          "metadata": {},
          "execution_count": 25
        }
      ]
    },
    {
      "cell_type": "code",
      "source": [
        "#посмотрим длину групп Test и Control\n",
        "len(df_mean_conv[df_mean_conv['group'] == 'Control']), len(df_mean_conv[df_mean_conv['group'] == 'Test'])"
      ],
      "metadata": {
        "colab": {
          "base_uri": "https://localhost:8080/"
        },
        "id": "x3zmx7fRq9TN",
        "outputId": "f2e9b50e-307f-4fb3-fbae-d7b6807e9dcc"
      },
      "execution_count": null,
      "outputs": [
        {
          "output_type": "execute_result",
          "data": {
            "text/plain": [
              "(13269, 13206)"
            ]
          },
          "metadata": {},
          "execution_count": 36
        }
      ]
    },
    {
      "cell_type": "code",
      "source": [
        "#посмотрим уникальные даты\n",
        "df_mean_conv['date'].unique()"
      ],
      "metadata": {
        "colab": {
          "base_uri": "https://localhost:8080/"
        },
        "id": "hCKMHBZfqjRO",
        "outputId": "6a615603-c243-4cb5-ecb5-6a4b4d01614c"
      },
      "execution_count": null,
      "outputs": [
        {
          "output_type": "execute_result",
          "data": {
            "text/plain": [
              "array(['2020-05-25', '2020-05-30', '2020-05-27', '2020-05-31',\n",
              "       '2020-05-29', '2020-05-26', '2020-05-28'], dtype=object)"
            ]
          },
          "metadata": {},
          "execution_count": 27
        }
      ]
    },
    {
      "cell_type": "code",
      "source": [
        "#разделим группы по числу дат, т.е. на 7 частей\n",
        "day1_control = df_mean_conv[(df_mean_conv['date'] == '2020-05-25') & (df_mean_conv['group'] == 'Control')]['order_made'].dropna()\n",
        "day1_test = df_mean_conv[(df_mean_conv['date'] == '2020-05-25') & (df_mean_conv['group'] == 'Test')]['order_made'].dropna()\n",
        "day2_control = df_mean_conv[(df_mean_conv['date'] == '2020-05-26') & (df_mean_conv['group'] == 'Control')]['order_made'].dropna()\n",
        "day2_test = df_mean_conv[(df_mean_conv['date'] == '2020-05-26') & (df_mean_conv['group'] == 'Test')]['order_made'].dropna()\n",
        "day3_control = df_mean_conv[(df_mean_conv['date'] == '2020-05-27') & (df_mean_conv['group'] == 'Control')]['order_made'].dropna()\n",
        "day3_test = df_mean_conv[(df_mean_conv['date'] == '2020-05-27') & (df_mean_conv['group'] == 'Test')]['order_made'].dropna()\n",
        "day4_control = df_mean_conv[(df_mean_conv['date'] == '2020-05-28') & (df_mean_conv['group'] == 'Control')]['order_made'].dropna()\n",
        "day4_test = df_mean_conv[(df_mean_conv['date'] == '2020-05-28') & (df_mean_conv['group'] == 'Test')]['order_made'].dropna()\n",
        "day5_control = df_mean_conv[(df_mean_conv['date'] == '2020-05-29') & (df_mean_conv['group'] == 'Control')]['order_made'].dropna()\n",
        "day5_test = df_mean_conv[(df_mean_conv['date'] == '2020-05-29') & (df_mean_conv['group'] == 'Test')]['order_made'].dropna()\n",
        "day6_control = df_mean_conv[(df_mean_conv['date'] == '2020-05-30') & (df_mean_conv['group'] == 'Control')]['order_made'].dropna()\n",
        "day6_test = df_mean_conv[(df_mean_conv['date'] == '2020-05-30') & (df_mean_conv['group'] == 'Test')]['order_made'].dropna()\n",
        "day7_control = df_mean_conv[(df_mean_conv['date'] == '2020-05-31') & (df_mean_conv['group'] == 'Control')]['order_made'].dropna()\n",
        "day7_test = df_mean_conv[(df_mean_conv['date'] == '2020-05-31') & (df_mean_conv['group'] == 'Test')]['order_made'].dropna()"
      ],
      "metadata": {
        "id": "OPI9H1q4rZe1"
      },
      "execution_count": null,
      "outputs": []
    },
    {
      "cell_type": "code",
      "source": [
        "#проверим длины групп\n",
        "len(day1_control), len(day1_test), len(day2_control), len(day2_test), len(day3_control), len(day3_test), len(day4_control), len(day4_test), len(day5_control), len(day5_test), len(day6_control), len(day6_test),  len(day7_control), len(day7_test)"
      ],
      "metadata": {
        "colab": {
          "base_uri": "https://localhost:8080/"
        },
        "id": "KNVBQSFgtOn2",
        "outputId": "d64d7370-5fd5-41d5-d77f-7a68d444bd1b"
      },
      "execution_count": null,
      "outputs": [
        {
          "output_type": "execute_result",
          "data": {
            "text/plain": [
              "(1867,\n",
              " 1916,\n",
              " 1876,\n",
              " 1871,\n",
              " 1898,\n",
              " 1909,\n",
              " 1910,\n",
              " 1821,\n",
              " 1879,\n",
              " 1889,\n",
              " 1918,\n",
              " 1868,\n",
              " 1921,\n",
              " 1932)"
            ]
          },
          "metadata": {},
          "execution_count": 55
        }
      ]
    },
    {
      "cell_type": "code",
      "source": [
        "#приведем длины всех выборок к наименьшему значению\n",
        "group_volume = min(len(day1_control), len(day1_test), len(day2_control), len(day2_test), len(day3_control), len(day3_test), len(day4_control), len(day4_test), len(day5_control), len(day5_test), len(day6_control), len(day6_test),  len(day7_control), len(day7_test))\n",
        "day1_control = day1_control.iloc[0:group_volume-1]\n",
        "day1_test = day1_test.iloc[0:group_volume-1]\n",
        "day2_control = day2_control.iloc[0:group_volume-1]\n",
        "day2_test = day2_test.iloc[0:group_volume-1]\n",
        "day3_control = day3_control.iloc[0:group_volume-1]\n",
        "day3_test = day3_test.iloc[0:group_volume-1]\n",
        "day4_control = day4_control.iloc[0:group_volume-1]\n",
        "day4_test = day4_test.iloc[0:group_volume-1]\n",
        "day5_control = day5_control.iloc[0:group_volume-1]\n",
        "day5_test = day5_test.iloc[0:group_volume-1]\n",
        "day6_control = day6_control.iloc[0:group_volume-1]\n",
        "day6_test = day6_test.iloc[0:group_volume-1]\n",
        "day7_control = day7_control.iloc[0:group_volume-1]\n",
        "day7_test = day7_test.iloc[0:group_volume-1]"
      ],
      "metadata": {
        "id": "L_Bl8cu_t6pV"
      },
      "execution_count": null,
      "outputs": []
    },
    {
      "cell_type": "code",
      "source": [
        "#проверим длины групп\n",
        "len(day1_control), len(day1_test), len(day2_control), len(day2_test), len(day3_control), len(day3_test), len(day4_control), len(day4_test), len(day5_control), len(day5_test), len(day6_control), len(day6_test),  len(day7_control), len(day7_test)"
      ],
      "metadata": {
        "colab": {
          "base_uri": "https://localhost:8080/"
        },
        "id": "Ts6nvi81xbEr",
        "outputId": "942fda39-4721-45c8-9db3-fe6aedb896d6"
      },
      "execution_count": null,
      "outputs": [
        {
          "output_type": "execute_result",
          "data": {
            "text/plain": [
              "(1820,\n",
              " 1820,\n",
              " 1820,\n",
              " 1820,\n",
              " 1820,\n",
              " 1820,\n",
              " 1820,\n",
              " 1820,\n",
              " 1820,\n",
              " 1820,\n",
              " 1820,\n",
              " 1820,\n",
              " 1820,\n",
              " 1820)"
            ]
          },
          "metadata": {},
          "execution_count": 57
        }
      ]
    },
    {
      "cell_type": "markdown",
      "source": [
        "Проверим группы на однородность с использованием теста Стьюдента\\\n",
        "Сформируем гипотезы для проверки:\\\n",
        "Н0 - Статистических различий в конверсии в группах нет \\\n",
        "Н1 - Статистические различия в конверсии в группах есть "
      ],
      "metadata": {
        "id": "6xjlKvxI5tvI"
      }
    },
    {
      "cell_type": "code",
      "source": [
        "#производим расчет p-value за каждый день\n",
        "control = [day1_control, day2_control, day3_control, day4_control, day5_control, day6_control, day7_control]\n",
        "test = [day1_test, day2_test, day3_test, day4_test, day5_test, day6_test, day7_test]"
      ],
      "metadata": {
        "id": "ou0rQgeeyFps"
      },
      "execution_count": null,
      "outputs": []
    },
    {
      "cell_type": "code",
      "source": [
        "alpha = 0.5\n",
        "pvalue = []\n",
        "for i in range(7):\n",
        "    s, p = stats.ttest_ind(test[i], control[i])\n",
        "    pvalue.append(p)\n",
        "    print('Statistics=%.3f, p=%.3f' % (s, p))\n",
        "  \n",
        "    if p > alpha:\n",
        "        print('Одинаковые распределения (не отвергаем H0)')\n",
        "    else:\n",
        "        print('Разные распределения (отвергаем H0)') "
      ],
      "metadata": {
        "colab": {
          "base_uri": "https://localhost:8080/"
        },
        "id": "CeT12tsW0Utc",
        "outputId": "28231d2e-a9e5-417b-b8b4-65d3dc6c1cbb"
      },
      "execution_count": null,
      "outputs": [
        {
          "output_type": "stream",
          "name": "stdout",
          "text": [
            "Statistics=3.279, p=0.001\n",
            "Разные распределения (отвергаем H0)\n",
            "Statistics=-0.342, p=0.732\n",
            "Одинаковые распределения (не отвергаем H0)\n",
            "Statistics=1.651, p=0.099\n",
            "Разные распределения (отвергаем H0)\n",
            "Statistics=1.095, p=0.273\n",
            "Разные распределения (отвергаем H0)\n",
            "Statistics=1.060, p=0.289\n",
            "Разные распределения (отвергаем H0)\n",
            "Statistics=1.879, p=0.060\n",
            "Разные распределения (отвергаем H0)\n",
            "Statistics=0.727, p=0.467\n",
            "Разные распределения (отвергаем H0)\n"
          ]
        }
      ]
    },
    {
      "cell_type": "code",
      "source": [
        "# построим график изменения p-value по дням\n",
        "alpha = 0.5\n",
        "fig = plt.figure(figsize=(10,4))\n",
        "ax = fig.add_subplot(111)\n",
        "ax.plot(sorted(df_mean_conv['date'].unique()), pvalue)\n",
        "ax.plot(sorted(df_mean_conv['date'].unique()), [alpha]*7, color='red')"
      ],
      "metadata": {
        "colab": {
          "base_uri": "https://localhost:8080/",
          "height": 282
        },
        "id": "km0HKPU_1_eB",
        "outputId": "d65b346b-8bfc-44ef-82df-6dcab7367965"
      },
      "execution_count": null,
      "outputs": [
        {
          "output_type": "execute_result",
          "data": {
            "text/plain": [
              "[<matplotlib.lines.Line2D at 0x7f313cb175b0>]"
            ]
          },
          "metadata": {},
          "execution_count": 62
        },
        {
          "output_type": "display_data",
          "data": {
            "text/plain": [
              "<Figure size 720x288 with 1 Axes>"
            ],
            "image/png": "[encoded data removed]"
          },
          "metadata": {
            "needs_background": "light"
          }
        }
      ]
    },
    {
      "cell_type": "markdown",
      "source": [
        "Вывод: результаты теста неоднозначны - в тестовой группе есть как значимые изменения относительно контрольной, так и их отсутствие - в зависимости от даты. Необходимо продолжение теста, для установления результата"
      ],
      "metadata": {
        "id": "PkcjPe-x5-0o"
      }
    }
  ]
}