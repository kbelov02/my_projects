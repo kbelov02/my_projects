{
  "nbformat": 4,
  "nbformat_minor": 0,
  "metadata": {
    "colab": {
      "provenance": []
    },
    "kernelspec": {
      "name": "python3",
      "display_name": "Python 3"
    },
    "language_info": {
      "name": "python"
    }
  },
  "cells": [
    {
      "cell_type": "markdown",
      "source": [
        "# Домашнее задание к лекции «Исключения и обработка ошибок»"
      ],
      "metadata": {
        "id": "187zm89YwN_A"
      }
    },
    {
      "cell_type": "markdown",
      "source": [
        "## Задание 1\n",
        "Печатные газеты использовали свой формат дат для каждого выпуска. Для каждой газеты из списка напишите формат указанной даты для перевода в объект datetime:  \n",
        "The Moscow Times — Wednesday, October 2, 2002  \n",
        "The Guardian — Friday, 11.10.13  \n",
        "Daily News — Thursday, 18 August 1977"
      ],
      "metadata": {
        "id": "L1KZp9qnwSno"
      }
    },
    {
      "cell_type": "code",
      "source": [
        "from datetime import datetime"
      ],
      "metadata": {
        "id": "4Q_z94X27z28"
      },
      "execution_count": null,
      "outputs": []
    },
    {
      "cell_type": "code",
      "source": [
        "newspapers = {'The Moscow Times': 'Wednesday, October 2, 2002', 'The Guardian': 'Friday, 11.10.13', 'Daily News': 'Thursday, 18 August 1977'}\n",
        "\n",
        "for newspaper, date in newspapers.items():\n",
        "  if newspaper == 'The Moscow Times':\n",
        "    date_datetime = datetime.strptime(date, '%A, %B %d, %Y')\n",
        "    print(newspaper, date_datetime)\n",
        "  elif newspaper == 'The Guardian':\n",
        "    date_datetime = datetime.strptime(date, '%A, %m.%d.%y')\n",
        "    print(newspaper, date_datetime)\n",
        "  elif newspaper == 'Daily News':\n",
        "    date_datetime = datetime.strptime(date, '%A, %d %B %Y')\n",
        "    print(newspaper, date_datetime)\n",
        "  else:\n",
        "    print(newspaper, 'Для данной газеты не прописан формат даты')\n",
        "  \n",
        "\n"
      ],
      "metadata": {
        "colab": {
          "base_uri": "https://localhost:8080/"
        },
        "id": "W6XR9_5g8pkd",
        "outputId": "1c4d55be-6b09-4360-d2bd-5c23a94f362d"
      },
      "execution_count": null,
      "outputs": [
        {
          "output_type": "stream",
          "name": "stdout",
          "text": [
            "The Moscow Times 2002-10-02 00:00:00\n",
            "The Guardian 2013-11-10 00:00:00\n",
            "Daily News 1977-08-18 00:00:00\n"
          ]
        }
      ]
    },
    {
      "cell_type": "markdown",
      "source": [
        "## Задание 2\n",
        "Дан поток дат в формате YYYY-MM-DD, в которых встречаются некорректные значения:  \n",
        "stream = [‘2018-04-02’, ‘2018-02-29’, ‘2018-19-02’]\n",
        "\n",
        "Напишите функцию, которая проверяет эти даты на корректность.  \n",
        "То есть для каждой даты возвращает True — дата корректна или False — некорректная."
      ],
      "metadata": {
        "id": "wSz0KY2jxfyn"
      }
    },
    {
      "cell_type": "code",
      "source": [],
      "metadata": {
        "id": "amJUX0PObM0m"
      },
      "execution_count": null,
      "outputs": []
    },
    {
      "cell_type": "code",
      "source": [
        "stream = ['2018-04-02', '2018-02-29', '2018-19-02']\n",
        "\n",
        "def check_date(date_list):\n",
        "  for date in date_list:\n",
        "    try:\n",
        "      date_datetime = datetime.strptime(date, '%Y-%m-%d')\n",
        "      print(f'Дата {date_datetime} задана корректно')\n",
        "    except:\n",
        "      print(f'Дата {date} задана некорректно')\n",
        "      pass\n",
        "  "
      ],
      "metadata": {
        "id": "-hpEY9zHWPb0"
      },
      "execution_count": null,
      "outputs": []
    },
    {
      "cell_type": "code",
      "source": [
        "check_date(stream)"
      ],
      "metadata": {
        "colab": {
          "base_uri": "https://localhost:8080/"
        },
        "id": "jMN_M9TfX5uN",
        "outputId": "13f068e1-a3d3-425e-a03f-c1ba4f49af50"
      },
      "execution_count": null,
      "outputs": [
        {
          "output_type": "stream",
          "name": "stdout",
          "text": [
            "Дата 2018-04-02 00:00:00 задана корректно\n",
            "Дата 2018-02-29 задана некорректно\n",
            "Дата 2018-19-02 задана некорректно\n"
          ]
        }
      ]
    },
    {
      "cell_type": "markdown",
      "source": [
        "## Задание 3\n",
        "Напишите функцию date_range, которая возвращает список дат за период от start_date до end_date.   \n",
        "Даты должны вводиться в формате YYYY-MM-DD.   \n",
        "В случае неверного формата или при start_date > end_date должен возвращаться пустой список."
      ],
      "metadata": {
        "id": "UVUFRvOtxrcN"
      }
    },
    {
      "cell_type": "code",
      "source": [
        "from datetime import timedelta"
      ],
      "metadata": {
        "id": "E5KSelNBrqY0"
      },
      "execution_count": null,
      "outputs": []
    },
    {
      "cell_type": "code",
      "source": [
        "def date_range():\n",
        "  list_of_date = []\n",
        "  start_date = input('Введите дату начала в формате YYYY-MM-DD')\n",
        "  try:\n",
        "    start_date_dt = datetime.strptime(start_date, '%Y-%m-%d')\n",
        "  except ValueError:\n",
        "    return print(f'Неверный формат даты. Список пуст {list_of_date}')\n",
        "  end_date = input('Введите дату окончания в формате YYYY-MM-DD')\n",
        "  try:\n",
        "    end_date_dt = datetime.strptime(end_date, '%Y-%m-%d')\n",
        "  except:\n",
        "    return print(f'Неверный формат даты. Список пуст {list_of_date}')\n",
        "  current_date_dt = start_date_dt\n",
        "  if current_date_dt >= end_date_dt:\n",
        "    print('Неверно задан диапазон дат: указанная дата начала больше или равна дате окончания')\n",
        "  else:\n",
        "    while current_date_dt < end_date_dt:\n",
        "        list_of_date.append(current_date_dt.strftime('%Y-%m-%d'))\n",
        "        current_date_dt += timedelta(days = 1)\n",
        "  print(f'Список дат за период: {list_of_date}')"
      ],
      "metadata": {
        "id": "8H4qqParsPSM"
      },
      "execution_count": null,
      "outputs": []
    },
    {
      "cell_type": "code",
      "source": [
        "date_range()"
      ],
      "metadata": {
        "colab": {
          "base_uri": "https://localhost:8080/"
        },
        "id": "RS4EA7kO7n4u",
        "outputId": "6dbdd0e6-4cf3-483c-ae01-ad484cc9f904"
      },
      "execution_count": null,
      "outputs": [
        {
          "output_type": "stream",
          "name": "stdout",
          "text": [
            "Введите дату начала в формате YYYY-MM-DD2020-02-15\n",
            "Введите дату окончания в формате YYYY-MM-DD2020-03-05\n",
            "Список дат за период: ['2020-02-15', '2020-02-16', '2020-02-17', '2020-02-18', '2020-02-19', '2020-02-20', '2020-02-21', '2020-02-22', '2020-02-23', '2020-02-24', '2020-02-25', '2020-02-26', '2020-02-27', '2020-02-28', '2020-02-29', '2020-03-01', '2020-03-02', '2020-03-03', '2020-03-04']\n"
          ]
        }
      ]
    },
    {
      "cell_type": "code",
      "source": [
        "date_range()"
      ],
      "metadata": {
        "colab": {
          "base_uri": "https://localhost:8080/"
        },
        "id": "U1kIt-GRmqD1",
        "outputId": "6ad2076e-f9ed-4e6d-a2e2-a3325032741f"
      },
      "execution_count": null,
      "outputs": [
        {
          "output_type": "stream",
          "name": "stdout",
          "text": [
            "Введите дату начала в формате YYYY-MM-DDолиди\n",
            "Неверный формат даты. Список пуст []\n"
          ]
        }
      ]
    },
    {
      "cell_type": "code",
      "source": [
        "date_range()"
      ],
      "metadata": {
        "colab": {
          "base_uri": "https://localhost:8080/"
        },
        "id": "_rntfRrDnDnL",
        "outputId": "4fd0ada7-3b70-47fe-e8f0-846c9a10eb3e"
      },
      "execution_count": null,
      "outputs": [
        {
          "output_type": "stream",
          "name": "stdout",
          "text": [
            "Введите дату начала в формате YYYY-MM-DD2023-05-31\n",
            "Введите дату окончания в формате YYYY-MM-DD2023-05-30\n",
            "Неверно задан диапазон дат: указанная дата начала больше или равна дате окончания\n",
            "Список дат за период: []\n"
          ]
        }
      ]
    },
    {
      "cell_type": "code",
      "source": [],
      "metadata": {
        "id": "VFqqzuNmmxgs"
      },
      "execution_count": null,
      "outputs": []
    },
    {
      "cell_type": "markdown",
      "source": [
        "## Задание 4 (необязательное)\n",
        "Ваш коллега прислал код функции:  \n",
        "\n",
        "DEFAULT_USER_COUNT = 3\n",
        "\n",
        "def delete_and_return_last_user(region, default_list=[‘A100’, ‘A101’, ‘A102’]):  \n",
        "\"\"“  \n",
        "Удаляет из списка default_list последнего пользователя  \n",
        "и возвращает ID нового последнего пользователя.  \n",
        "”\"\"  \n",
        "element_to_delete = default_list[-1]  \n",
        "default_list.remove(element_to_delete)  \n",
        "\n",
        "1  \n",
        "return default_list[DEFAULT_USER_COUNT-2]  \n",
        "При однократном вызове этой функции всё работает корректно:  \n",
        "delete_and_return_last_user(1)  \n",
        "‘A101’  \n",
        "\n",
        "Однако при повторном вызове получается ошибка IndexError: list index out of range.  \n",
        "\n",
        "Задание:  \n",
        "\n",
        "Что значит ошибка list index out of range?  \n",
        "Почему при первом запуске функция работает корректно, а при втором — нет?  "
      ],
      "metadata": {
        "id": "CLvSrUOHxxzu"
      }
    },
    {
      "cell_type": "code",
      "source": [
        "DEFAULT_USER_COUNT = 3\n",
        "\n",
        "def delete_and_return_last_user(region, default_list=['A100', 'A101', 'A102']):\n",
        "  \"\"\"\n",
        "  Удаляет из списка default_list последнего пользователя\n",
        "  и возвращает ID нового последнего пользователя.\n",
        "  \"\"\"\n",
        "  element_to_delete = default_list[-1]\n",
        "  default_list.remove(element_to_delete)\n",
        "  return default_list[DEFAULT_USER_COUNT-2]"
      ],
      "metadata": {
        "id": "KS2FSNIa-LCH"
      },
      "execution_count": null,
      "outputs": []
    },
    {
      "cell_type": "code",
      "source": [
        "delete_and_return_last_user(1)"
      ],
      "metadata": {
        "colab": {
          "base_uri": "https://localhost:8080/",
          "height": 252
        },
        "id": "sf2Fi_Mi-ftn",
        "outputId": "1aeefa4f-5081-4aa6-8e06-25ababebf051"
      },
      "execution_count": null,
      "outputs": [
        {
          "output_type": "error",
          "ename": "IndexError",
          "evalue": "ignored",
          "traceback": [
            "\u001b[0;31m---------------------------------------------------------------------------\u001b[0m",
            "\u001b[0;31mIndexError\u001b[0m                                Traceback (most recent call last)",
            "\u001b[0;32m<ipython-input-75-bfb6c4f8c48e>\u001b[0m in \u001b[0;36m<cell line: 1>\u001b[0;34m()\u001b[0m\n\u001b[0;32m----> 1\u001b[0;31m \u001b[0mdelete_and_return_last_user\u001b[0m\u001b[0;34m(\u001b[0m\u001b[0;36m1\u001b[0m\u001b[0;34m)\u001b[0m\u001b[0;34m\u001b[0m\u001b[0;34m\u001b[0m\u001b[0m\n\u001b[0m",
            "\u001b[0;32m<ipython-input-71-8ca1291b010a>\u001b[0m in \u001b[0;36mdelete_and_return_last_user\u001b[0;34m(region, default_list)\u001b[0m\n\u001b[1;32m      8\u001b[0m   \u001b[0melement_to_delete\u001b[0m \u001b[0;34m=\u001b[0m \u001b[0mdefault_list\u001b[0m\u001b[0;34m[\u001b[0m\u001b[0;34m-\u001b[0m\u001b[0;36m1\u001b[0m\u001b[0;34m]\u001b[0m\u001b[0;34m\u001b[0m\u001b[0;34m\u001b[0m\u001b[0m\n\u001b[1;32m      9\u001b[0m   \u001b[0mdefault_list\u001b[0m\u001b[0;34m.\u001b[0m\u001b[0mremove\u001b[0m\u001b[0;34m(\u001b[0m\u001b[0melement_to_delete\u001b[0m\u001b[0;34m)\u001b[0m\u001b[0;34m\u001b[0m\u001b[0;34m\u001b[0m\u001b[0m\n\u001b[0;32m---> 10\u001b[0;31m   \u001b[0;32mreturn\u001b[0m \u001b[0mdefault_list\u001b[0m\u001b[0;34m[\u001b[0m\u001b[0mDEFAULT_USER_COUNT\u001b[0m\u001b[0;34m-\u001b[0m\u001b[0;36m2\u001b[0m\u001b[0;34m]\u001b[0m\u001b[0;34m\u001b[0m\u001b[0;34m\u001b[0m\u001b[0m\n\u001b[0m",
            "\u001b[0;31mIndexError\u001b[0m: list index out of range"
          ]
        }
      ]
    },
    {
      "cell_type": "code",
      "source": [
        "default_list"
      ],
      "metadata": {
        "colab": {
          "base_uri": "https://localhost:8080/"
        },
        "id": "POMnqBEhhT4F",
        "outputId": "8894d36c-7432-44c6-a648-0f04e1203e00"
      },
      "execution_count": null,
      "outputs": [
        {
          "output_type": "execute_result",
          "data": {
            "text/plain": [
              "['A100', 'A101', 'A102']"
            ]
          },
          "metadata": {},
          "execution_count": 76
        }
      ]
    },
    {
      "cell_type": "markdown",
      "source": [
        "###Что значит ошибка list index out of range?\n",
        "Данная ошибка означает, что была попытка обратиться к элементу списка с несуществующим индексом"
      ],
      "metadata": {
        "id": "lOlHWuJnVItc"
      }
    },
    {
      "cell_type": "markdown",
      "source": [
        "### Почему при первом запуске функция работает корректно, а при втором — нет?\n",
        "При первом запуске функции мы обращаемся к списку из трех элементов, которые имеет индексы [0,1,2], удаляем из него последний элемент, получаем измененный список из двух значений с индексами [0,1].  \n",
        "Далее мы вызываем из этого списка элемент с индексом [1] т.е. последний (DEFAULT_USER_COUNT-2 = 3 - 2 = 1)  \n",
        "При втором обращении мы уже работаем со списком из двух элементов. Индексы будут [0,1]. Из этого списка мы удаляем последний элемент, получаем список из одного элемента.\n",
        "Применив выражение DEFAULT_USER_COUNT-2, получаем индекс [1], которого нет в нашем списке (поскольку в списке теперь 1 элемент, он имеет индекс либо [0] либо [-1])"
      ],
      "metadata": {
        "id": "i5pQCzAsVae8"
      }
    },
    {
      "cell_type": "markdown",
      "source": [
        "### Исправленная функция"
      ],
      "metadata": {
        "id": "RSJ3_i24kWG4"
      }
    },
    {
      "cell_type": "code",
      "source": [
        "def delete_and_return_last_user(region, default_list=['A100', 'A101', 'A102']):\n",
        "  \"\"\"\n",
        "  Удаляет из списка default_list последнего пользователя\n",
        "  и возвращает ID нового последнего пользователя.\n",
        "  \"\"\"\n",
        "  try:\n",
        "    element_to_delete = default_list[-1]\n",
        "    default_list.remove(element_to_delete)\n",
        "    return default_list[len(default_list)-1]\n",
        "  except IndexError:\n",
        "    print('Тут больше нет элементов. Все удалили')"
      ],
      "metadata": {
        "id": "e9dpGL0MkcPY"
      },
      "execution_count": null,
      "outputs": []
    },
    {
      "cell_type": "code",
      "source": [
        "delete_and_return_last_user(1)"
      ],
      "metadata": {
        "colab": {
          "base_uri": "https://localhost:8080/"
        },
        "id": "BqEgbfhAlHUb",
        "outputId": "7b60a425-dcd7-4924-c0bb-b903a7c66272"
      },
      "execution_count": null,
      "outputs": [
        {
          "output_type": "stream",
          "name": "stdout",
          "text": [
            "Тут больше нет элементов. Все удалили\n"
          ]
        }
      ]
    }
  ]
}