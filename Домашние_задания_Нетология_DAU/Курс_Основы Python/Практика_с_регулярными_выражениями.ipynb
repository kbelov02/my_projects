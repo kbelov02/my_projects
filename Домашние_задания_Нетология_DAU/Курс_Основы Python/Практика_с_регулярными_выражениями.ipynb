{
  "nbformat": 4,
  "nbformat_minor": 0,
  "metadata": {
    "colab": {
      "provenance": []
    },
    "kernelspec": {
      "name": "python3",
      "display_name": "Python 3"
    },
    "language_info": {
      "name": "python"
    }
  },
  "cells": [
    {
      "cell_type": "markdown",
      "source": [
        "# Домашнее задание \"Работа с регулярными выражениями\""
      ],
      "metadata": {
        "id": "7phElk6ieWlK"
      }
    },
    {
      "cell_type": "markdown",
      "source": [
        "## Акроним"
      ],
      "metadata": {
        "id": "kVI1GgToeR8A"
      }
    },
    {
      "cell_type": "markdown",
      "source": [
        "**Условие задачи**  \n",
        "Напишите функцию, которая будет возвращать акроним по переданной в неё строке со словами.\n",
        "\n",
        "Примеры работы программы:  \n",
        "some_words = 'Информационные технологии’  \n",
        "Результат: ИТ  \n",
        "\n",
        "some_words = 'Near Field Communication’  \n",
        "Результат: NFC  "
      ],
      "metadata": {
        "id": "xnCgCIzKed1v"
      }
    },
    {
      "cell_type": "code",
      "source": [
        "import re"
      ],
      "metadata": {
        "id": "TJYXB34Oe0-Z"
      },
      "execution_count": 1,
      "outputs": []
    },
    {
      "cell_type": "code",
      "source": [
        "def acronym(some_words):\n",
        "   return re.sub(r'\\b(\\w)\\w+', r'\\1', some_words).replace(' ', '').upper()"
      ],
      "metadata": {
        "id": "bm9pJV36et4K"
      },
      "execution_count": 2,
      "outputs": []
    },
    {
      "cell_type": "code",
      "source": [
        "print(acronym('Информационные технологии'))\n",
        "print(acronym('Near Field Communication'))"
      ],
      "metadata": {
        "colab": {
          "base_uri": "https://localhost:8080/"
        },
        "id": "ZBiRjw9Pe4YS",
        "outputId": "4d07fec7-b02d-497a-b602-bdf320a2ab81"
      },
      "execution_count": 3,
      "outputs": [
        {
          "output_type": "stream",
          "name": "stdout",
          "text": [
            "ИТ\n",
            "NFC\n"
          ]
        }
      ]
    },
    {
      "cell_type": "markdown",
      "source": [
        "## Распределение email-адресов"
      ],
      "metadata": {
        "id": "P0IqWVRue8Wa"
      }
    },
    {
      "cell_type": "markdown",
      "source": [
        "Напишите функцию, которая будет принимать на вход список email-адресов и выводить их распределение по доменным зонам.  \n",
        "\n",
        "Пример работы программы:  \n",
        "emails = [‘test@gmail.com’, ‘xyz@test.in’, ‘test@ya.ru’, ‘xyz@mail.ru’, ‘xyz@ya.ru’, ‘xyz@gmail.com’]  \n",
        "\n",
        "Результат:  \n",
        "gmail.com: 2  \n",
        "test.in: 1  \n",
        "ya.ru: 2  \n",
        "mail.ru: 1  "
      ],
      "metadata": {
        "id": "NdbrTdnLfCYC"
      }
    },
    {
      "cell_type": "code",
      "source": [
        "emails = ['test@gmail.com', 'xyz@test.in', 'test@ya.ru', 'xyz@mail.ru', 'xyz@ya.ru', 'xyz@gmail.com']"
      ],
      "metadata": {
        "id": "P78rU4t5fJ8o"
      },
      "execution_count": 4,
      "outputs": []
    },
    {
      "cell_type": "code",
      "source": [
        "def counting(emails: list) -> dict:\n",
        "    dic = {}\n",
        "    for i in re.findall(r'\\w+@(\\w+\\.\\w+)', str(emails)):\n",
        "        dic[i] = dic.setdefault(i,0) +1\n",
        "    return dic"
      ],
      "metadata": {
        "id": "50DBPQr5fNTw"
      },
      "execution_count": 5,
      "outputs": []
    },
    {
      "cell_type": "code",
      "source": [
        "for k, v in counting(emails).items():\n",
        "    print(k, v)"
      ],
      "metadata": {
        "colab": {
          "base_uri": "https://localhost:8080/"
        },
        "id": "thaNk--JfPM1",
        "outputId": "a563548b-b41d-4e79-bfba-7cad939a9691"
      },
      "execution_count": 6,
      "outputs": [
        {
          "output_type": "stream",
          "name": "stdout",
          "text": [
            "gmail.com 2\n",
            "test.in 1\n",
            "ya.ru 2\n",
            "mail.ru 1\n"
          ]
        }
      ]
    },
    {
      "cell_type": "markdown",
      "source": [
        "## Первые буквы слов"
      ],
      "metadata": {
        "id": "vIfIfOIKfYcV"
      }
    },
    {
      "cell_type": "markdown",
      "source": [
        "Напишите функцию, которая будет подсчитывать, сколько слов начинается на гласные, а сколько на согласные буквы в тексте. Текст может быть написан с использованием букв как кириллицы, так и латиницы.\n",
        "\n",
        "Пример работы программы:\n",
        "some_text = ‘Эталонной реализацией Python является интерпретатор CPython, поддерживающий большинство активно используемых платформ. Он распространяется под свободной лицензией Python Software Foundation License, позволяющей использовать его без ограничений в любых приложениях, включая проприетарные.’\n",
        "\n",
        "Результат:  \n",
        "Слов на гласные буквы: 9  \n",
        "Слов на согласные буквы: 21  "
      ],
      "metadata": {
        "id": "t1TnnjGOfg9u"
      }
    },
    {
      "cell_type": "code",
      "source": [
        "some_text = '''\n",
        "Эталонной реализацией Python является интерпретатор CPython, \n",
        "поддерживающий большинство активно используемых платформ. \n",
        "Он распространяется под свободной лицензией Python Software Foundation License, \n",
        "позволяющей использовать его без ограничений в любых приложениях, включая проприетарные.\n",
        "'''"
      ],
      "metadata": {
        "id": "PBxZDXpcfnOL"
      },
      "execution_count": 7,
      "outputs": []
    },
    {
      "cell_type": "code",
      "source": [
        "def vowel_cons(some_text: str) -> list:\n",
        "    vowels = len(re.findall(r'\\b[АЕЁИОУЫЭЮЯAEIOU]', some_text, flags=re.IGNORECASE))\n",
        "    cons = len(re.findall(r'\\b[БВГДЖЗЙКЛМНПРСТФХЦЧШЩBCDFGHJKLMNPQRSTVWXYZ]', some_text, flags=re.IGNORECASE))\n",
        "    return [vowels, cons]"
      ],
      "metadata": {
        "id": "v4JKEFxzfrh9"
      },
      "execution_count": 8,
      "outputs": []
    },
    {
      "cell_type": "code",
      "source": [
        "print('Слов на гласные буквы:', vowel_cons(some_text)[0], '\\nСлов на согласные буквы:', vowel_cons(some_text)[1])"
      ],
      "metadata": {
        "colab": {
          "base_uri": "https://localhost:8080/"
        },
        "id": "8YBtwcKYft5X",
        "outputId": "492c17fe-420a-40f7-e952-9610f90c1e59"
      },
      "execution_count": 9,
      "outputs": [
        {
          "output_type": "stream",
          "name": "stdout",
          "text": [
            "Слов на гласные буквы: 9 \n",
            "Слов на согласные буквы: 21\n"
          ]
        }
      ]
    }
  ]
}