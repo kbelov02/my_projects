{
  "nbformat": 4,
  "nbformat_minor": 0,
  "metadata": {
    "colab": {
      "provenance": []
    },
    "kernelspec": {
      "name": "python3",
      "display_name": "Python 3"
    },
    "language_info": {
      "name": "python"
    }
  },
  "cells": [
    {
      "cell_type": "code",
      "execution_count": null,
      "metadata": {
        "id": "VFn8DSLy4iON"
      },
      "outputs": [],
      "source": [
        "import pandas as pd\n",
        "import seaborn as sns\n",
        "import matplotlib.pyplot as plt\n"
      ]
    },
    {
      "cell_type": "code",
      "source": [
        "df = pd.read_excel('FPS_hw_x_df_x_taxi.xlsx')\n",
        "df.head(15)"
      ],
      "metadata": {
        "colab": {
          "base_uri": "https://localhost:8080/",
          "height": 519
        },
        "id": "nkO_NT4E5WPo",
        "outputId": "b5b8a06a-87e5-4c3e-a92d-75e5054aca3c"
      },
      "execution_count": null,
      "outputs": [
        {
          "output_type": "execute_result",
          "data": {
            "text/plain": [
              "    order_gk  weekday_key   hour_key  distance_km offer_class_group  \\\n",
              "0        412            7  22.967881    53.113626           Premium   \n",
              "1        436            3  19.439948     5.781342          Delivery   \n",
              "2       1327            6  19.816643    16.200071          Delivery   \n",
              "3       2013            2  19.123837    13.731643          Delivery   \n",
              "4       2241            6  23.164958    20.436380           Premium   \n",
              "5       2601            4  18.355521    46.301291           Premium   \n",
              "6       2710            4  23.825352     2.142234           Comfort   \n",
              "7       2911            7  19.491440    42.587786           Premium   \n",
              "8       2948            6  18.996947    67.540478           Premium   \n",
              "9       3013            2  15.692942    33.417278          Delivery   \n",
              "10      3661            7  17.249842    13.393704           Premium   \n",
              "11      3845            3  21.305555    83.829973           Economy   \n",
              "12      4033            6  25.438178    13.143008           Premium   \n",
              "13      4957            3  26.919090    14.238745           Economy   \n",
              "14      5150            5  21.139232     4.334163           Economy   \n",
              "\n",
              "    driver_response  \n",
              "0                 1  \n",
              "1                 1  \n",
              "2                 0  \n",
              "3                 0  \n",
              "4                 1  \n",
              "5                 0  \n",
              "6                 1  \n",
              "7                 1  \n",
              "8                 1  \n",
              "9                 1  \n",
              "10                1  \n",
              "11                0  \n",
              "12                1  \n",
              "13                1  \n",
              "14                0  "
            ],
            "text/html": [
              "\n",
              "  <div id=\"df-3aae54f3-dc01-4619-9004-4ee2197759ab\">\n",
              "    <div class=\"colab-df-container\">\n",
              "      <div>\n",
              "<style scoped>\n",
              "    .dataframe tbody tr th:only-of-type {\n",
              "        vertical-align: middle;\n",
              "    }\n",
              "\n",
              "    .dataframe tbody tr th {\n",
              "        vertical-align: top;\n",
              "    }\n",
              "\n",
              "    .dataframe thead th {\n",
              "        text-align: right;\n",
              "    }\n",
              "</style>\n",
              "<table border=\"1\" class=\"dataframe\">\n",
              "  <thead>\n",
              "    <tr style=\"text-align: right;\">\n",
              "      <th></th>\n",
              "      <th>order_gk</th>\n",
              "      <th>weekday_key</th>\n",
              "      <th>hour_key</th>\n",
              "      <th>distance_km</th>\n",
              "      <th>offer_class_group</th>\n",
              "      <th>driver_response</th>\n",
              "    </tr>\n",
              "  </thead>\n",
              "  <tbody>\n",
              "    <tr>\n",
              "      <th>0</th>\n",
              "      <td>412</td>\n",
              "      <td>7</td>\n",
              "      <td>22.967881</td>\n",
              "      <td>53.113626</td>\n",
              "      <td>Premium</td>\n",
              "      <td>1</td>\n",
              "    </tr>\n",
              "    <tr>\n",
              "      <th>1</th>\n",
              "      <td>436</td>\n",
              "      <td>3</td>\n",
              "      <td>19.439948</td>\n",
              "      <td>5.781342</td>\n",
              "      <td>Delivery</td>\n",
              "      <td>1</td>\n",
              "    </tr>\n",
              "    <tr>\n",
              "      <th>2</th>\n",
              "      <td>1327</td>\n",
              "      <td>6</td>\n",
              "      <td>19.816643</td>\n",
              "      <td>16.200071</td>\n",
              "      <td>Delivery</td>\n",
              "      <td>0</td>\n",
              "    </tr>\n",
              "    <tr>\n",
              "      <th>3</th>\n",
              "      <td>2013</td>\n",
              "      <td>2</td>\n",
              "      <td>19.123837</td>\n",
              "      <td>13.731643</td>\n",
              "      <td>Delivery</td>\n",
              "      <td>0</td>\n",
              "    </tr>\n",
              "    <tr>\n",
              "      <th>4</th>\n",
              "      <td>2241</td>\n",
              "      <td>6</td>\n",
              "      <td>23.164958</td>\n",
              "      <td>20.436380</td>\n",
              "      <td>Premium</td>\n",
              "      <td>1</td>\n",
              "    </tr>\n",
              "    <tr>\n",
              "      <th>5</th>\n",
              "      <td>2601</td>\n",
              "      <td>4</td>\n",
              "      <td>18.355521</td>\n",
              "      <td>46.301291</td>\n",
              "      <td>Premium</td>\n",
              "      <td>0</td>\n",
              "    </tr>\n",
              "    <tr>\n",
              "      <th>6</th>\n",
              "      <td>2710</td>\n",
              "      <td>4</td>\n",
              "      <td>23.825352</td>\n",
              "      <td>2.142234</td>\n",
              "      <td>Comfort</td>\n",
              "      <td>1</td>\n",
              "    </tr>\n",
              "    <tr>\n",
              "      <th>7</th>\n",
              "      <td>2911</td>\n",
              "      <td>7</td>\n",
              "      <td>19.491440</td>\n",
              "      <td>42.587786</td>\n",
              "      <td>Premium</td>\n",
              "      <td>1</td>\n",
              "    </tr>\n",
              "    <tr>\n",
              "      <th>8</th>\n",
              "      <td>2948</td>\n",
              "      <td>6</td>\n",
              "      <td>18.996947</td>\n",
              "      <td>67.540478</td>\n",
              "      <td>Premium</td>\n",
              "      <td>1</td>\n",
              "    </tr>\n",
              "    <tr>\n",
              "      <th>9</th>\n",
              "      <td>3013</td>\n",
              "      <td>2</td>\n",
              "      <td>15.692942</td>\n",
              "      <td>33.417278</td>\n",
              "      <td>Delivery</td>\n",
              "      <td>1</td>\n",
              "    </tr>\n",
              "    <tr>\n",
              "      <th>10</th>\n",
              "      <td>3661</td>\n",
              "      <td>7</td>\n",
              "      <td>17.249842</td>\n",
              "      <td>13.393704</td>\n",
              "      <td>Premium</td>\n",
              "      <td>1</td>\n",
              "    </tr>\n",
              "    <tr>\n",
              "      <th>11</th>\n",
              "      <td>3845</td>\n",
              "      <td>3</td>\n",
              "      <td>21.305555</td>\n",
              "      <td>83.829973</td>\n",
              "      <td>Economy</td>\n",
              "      <td>0</td>\n",
              "    </tr>\n",
              "    <tr>\n",
              "      <th>12</th>\n",
              "      <td>4033</td>\n",
              "      <td>6</td>\n",
              "      <td>25.438178</td>\n",
              "      <td>13.143008</td>\n",
              "      <td>Premium</td>\n",
              "      <td>1</td>\n",
              "    </tr>\n",
              "    <tr>\n",
              "      <th>13</th>\n",
              "      <td>4957</td>\n",
              "      <td>3</td>\n",
              "      <td>26.919090</td>\n",
              "      <td>14.238745</td>\n",
              "      <td>Economy</td>\n",
              "      <td>1</td>\n",
              "    </tr>\n",
              "    <tr>\n",
              "      <th>14</th>\n",
              "      <td>5150</td>\n",
              "      <td>5</td>\n",
              "      <td>21.139232</td>\n",
              "      <td>4.334163</td>\n",
              "      <td>Economy</td>\n",
              "      <td>0</td>\n",
              "    </tr>\n",
              "  </tbody>\n",
              "</table>\n",
              "</div>\n",
              "      <button class=\"colab-df-convert\" onclick=\"convertToInteractive('df-3aae54f3-dc01-4619-9004-4ee2197759ab')\"\n",
              "              title=\"Convert this dataframe to an interactive table.\"\n",
              "              style=\"display:none;\">\n",
              "        \n",
              "  <svg xmlns=\"http://www.w3.org/2000/svg\" height=\"24px\"viewBox=\"0 0 24 24\"\n",
              "       width=\"24px\">\n",
              "    <path d=\"M0 0h24v24H0V0z\" fill=\"none\"/>\n",
              "    <path d=\"M18.56 5.44l.94 2.06.94-2.06 2.06-.94-2.06-.94-.94-2.06-.94 2.06-2.06.94zm-11 1L8.5 8.5l.94-2.06 2.06-.94-2.06-.94L8.5 2.5l-.94 2.06-2.06.94zm10 10l.94 2.06.94-2.06 2.06-.94-2.06-.94-.94-2.06-.94 2.06-2.06.94z\"/><path d=\"M17.41 7.96l-1.37-1.37c-.4-.4-.92-.59-1.43-.59-.52 0-1.04.2-1.43.59L10.3 9.45l-7.72 7.72c-.78.78-.78 2.05 0 2.83L4 21.41c.39.39.9.59 1.41.59.51 0 1.02-.2 1.41-.59l7.78-7.78 2.81-2.81c.8-.78.8-2.07 0-2.86zM5.41 20L4 18.59l7.72-7.72 1.47 1.35L5.41 20z\"/>\n",
              "  </svg>\n",
              "      </button>\n",
              "      \n",
              "  <style>\n",
              "    .colab-df-container {\n",
              "      display:flex;\n",
              "      flex-wrap:wrap;\n",
              "      gap: 12px;\n",
              "    }\n",
              "\n",
              "    .colab-df-convert {\n",
              "      background-color: #E8F0FE;\n",
              "      border: none;\n",
              "      border-radius: 50%;\n",
              "      cursor: pointer;\n",
              "      display: none;\n",
              "      fill: #1967D2;\n",
              "      height: 32px;\n",
              "      padding: 0 0 0 0;\n",
              "      width: 32px;\n",
              "    }\n",
              "\n",
              "    .colab-df-convert:hover {\n",
              "      background-color: #E2EBFA;\n",
              "      box-shadow: 0px 1px 2px rgba(60, 64, 67, 0.3), 0px 1px 3px 1px rgba(60, 64, 67, 0.15);\n",
              "      fill: #174EA6;\n",
              "    }\n",
              "\n",
              "    [theme=dark] .colab-df-convert {\n",
              "      background-color: #3B4455;\n",
              "      fill: #D2E3FC;\n",
              "    }\n",
              "\n",
              "    [theme=dark] .colab-df-convert:hover {\n",
              "      background-color: #434B5C;\n",
              "      box-shadow: 0px 1px 3px 1px rgba(0, 0, 0, 0.15);\n",
              "      filter: drop-shadow(0px 1px 2px rgba(0, 0, 0, 0.3));\n",
              "      fill: #FFFFFF;\n",
              "    }\n",
              "  </style>\n",
              "\n",
              "      <script>\n",
              "        const buttonEl =\n",
              "          document.querySelector('#df-3aae54f3-dc01-4619-9004-4ee2197759ab button.colab-df-convert');\n",
              "        buttonEl.style.display =\n",
              "          google.colab.kernel.accessAllowed ? 'block' : 'none';\n",
              "\n",
              "        async function convertToInteractive(key) {\n",
              "          const element = document.querySelector('#df-3aae54f3-dc01-4619-9004-4ee2197759ab');\n",
              "          const dataTable =\n",
              "            await google.colab.kernel.invokeFunction('convertToInteractive',\n",
              "                                                     [key], {});\n",
              "          if (!dataTable) return;\n",
              "\n",
              "          const docLinkHtml = 'Like what you see? Visit the ' +\n",
              "            '<a target=\"_blank\" href=https://colab.research.google.com/notebooks/data_table.ipynb>data table notebook</a>'\n",
              "            + ' to learn more about interactive tables.';\n",
              "          element.innerHTML = '';\n",
              "          dataTable['output_type'] = 'display_data';\n",
              "          await google.colab.output.renderOutput(dataTable, element);\n",
              "          const docLink = document.createElement('div');\n",
              "          docLink.innerHTML = docLinkHtml;\n",
              "          element.appendChild(docLink);\n",
              "        }\n",
              "      </script>\n",
              "    </div>\n",
              "  </div>\n",
              "  "
            ]
          },
          "metadata": {},
          "execution_count": 3
        }
      ]
    },
    {
      "cell_type": "markdown",
      "source": [
        "Выделяем подгруппы значений для классов Economy и Comfort:"
      ],
      "metadata": {
        "id": "AaUJgVUSf8fP"
      }
    },
    {
      "cell_type": "code",
      "source": [
        "eco = df[df['offer_class_group'] == 'Economy']\n",
        "com = df[df['offer_class_group'] == 'Comfort']\n",
        "\n",
        "print('Выборки имеют одинаковую длину', len(eco) == len(com))"
      ],
      "metadata": {
        "colab": {
          "base_uri": "https://localhost:8080/"
        },
        "id": "UjtkEuk9hcsf",
        "outputId": "73dce026-eeec-4f39-bfb7-506b83acb691"
      },
      "execution_count": null,
      "outputs": [
        {
          "output_type": "stream",
          "name": "stdout",
          "text": [
            "Выборки имеют одинаковую длину True\n"
          ]
        }
      ]
    },
    {
      "cell_type": "markdown",
      "source": [
        "Вычисляем описательную статистику для поля \"distance_km\" для выборок Comfort и Economy: "
      ],
      "metadata": {
        "id": "YC1b4vOr5l8-"
      }
    },
    {
      "cell_type": "code",
      "source": [
        "import statistics as st"
      ],
      "metadata": {
        "id": "1d6NCZwv5ySD"
      },
      "execution_count": null,
      "outputs": []
    },
    {
      "cell_type": "markdown",
      "source": [
        "Для Economy:"
      ],
      "metadata": {
        "id": "zTopDg0qhupo"
      }
    },
    {
      "cell_type": "code",
      "source": [
        "#средняя дальность поездки\n",
        "st.mean(eco['distance_km'])"
      ],
      "metadata": {
        "colab": {
          "base_uri": "https://localhost:8080/"
        },
        "id": "-29Plp2g7H72",
        "outputId": "87b956ad-9b55-4709-a481-f2ca7f80a726"
      },
      "execution_count": null,
      "outputs": [
        {
          "output_type": "execute_result",
          "data": {
            "text/plain": [
              "26.283116862179483"
            ]
          },
          "metadata": {},
          "execution_count": 20
        }
      ]
    },
    {
      "cell_type": "code",
      "source": [
        "#стандартное отклонение\n",
        "st.stdev(eco['distance_km'])"
      ],
      "metadata": {
        "colab": {
          "base_uri": "https://localhost:8080/"
        },
        "id": "fPCSD1rx7MZa",
        "outputId": "393d0b31-0330-4fc8-f626-36b5df36187e"
      },
      "execution_count": null,
      "outputs": [
        {
          "output_type": "execute_result",
          "data": {
            "text/plain": [
              "17.01615268667912"
            ]
          },
          "metadata": {},
          "execution_count": 21
        }
      ]
    },
    {
      "cell_type": "code",
      "source": [
        "#минимальная дистанция поездки или нулевой персентиль\n",
        "eco['distance_km'].min()"
      ],
      "metadata": {
        "colab": {
          "base_uri": "https://localhost:8080/"
        },
        "id": "dRQNDy4K7Qji",
        "outputId": "ecb0631a-c470-44cc-957a-3a4d87001da6"
      },
      "execution_count": null,
      "outputs": [
        {
          "output_type": "execute_result",
          "data": {
            "text/plain": [
              "0.08994740093195475"
            ]
          },
          "metadata": {},
          "execution_count": 22
        }
      ]
    },
    {
      "cell_type": "code",
      "source": [
        "#25-й персентиль\n",
        "eco['distance_km'].quantile(0.25)"
      ],
      "metadata": {
        "colab": {
          "base_uri": "https://localhost:8080/"
        },
        "id": "XGRLxxRl7Sei",
        "outputId": "52d37e4e-80f5-4ff9-ccd6-9ee0b2f2185f"
      },
      "execution_count": null,
      "outputs": [
        {
          "output_type": "execute_result",
          "data": {
            "text/plain": [
              "13.3722285788144"
            ]
          },
          "metadata": {},
          "execution_count": 23
        }
      ]
    },
    {
      "cell_type": "code",
      "source": [
        "#50-й персентиль или медиана\n",
        "eco['distance_km'].quantile(0.50)"
      ],
      "metadata": {
        "colab": {
          "base_uri": "https://localhost:8080/"
        },
        "id": "jGBlpZ2p7Uyc",
        "outputId": "68b0e0d3-5cad-445c-c15b-bdf2e0b1ecdb"
      },
      "execution_count": null,
      "outputs": [
        {
          "output_type": "execute_result",
          "data": {
            "text/plain": [
              "23.798182944304884"
            ]
          },
          "metadata": {},
          "execution_count": 24
        }
      ]
    },
    {
      "cell_type": "code",
      "source": [
        "#75-й персентиль\n",
        "eco['distance_km'].quantile(0.75)"
      ],
      "metadata": {
        "colab": {
          "base_uri": "https://localhost:8080/"
        },
        "id": "MMPdQ1cm7bFq",
        "outputId": "77b82b4f-2f33-475c-9c67-01b488a0c038"
      },
      "execution_count": null,
      "outputs": [
        {
          "output_type": "execute_result",
          "data": {
            "text/plain": [
              "36.845286721891"
            ]
          },
          "metadata": {},
          "execution_count": 25
        }
      ]
    },
    {
      "cell_type": "code",
      "source": [
        "#максимальная дистанция или сотый персентиль\n",
        "eco['distance_km'].max()"
      ],
      "metadata": {
        "colab": {
          "base_uri": "https://localhost:8080/"
        },
        "id": "bwNHRXdw7bq6",
        "outputId": "0eb1ac80-af03-4fda-931b-6b9c17a5535a"
      },
      "execution_count": null,
      "outputs": [
        {
          "output_type": "execute_result",
          "data": {
            "text/plain": [
              "90.5166181048858"
            ]
          },
          "metadata": {},
          "execution_count": 26
        }
      ]
    },
    {
      "cell_type": "markdown",
      "source": [
        "Для Comfort:"
      ],
      "metadata": {
        "id": "sPjwsoeBmKjA"
      }
    },
    {
      "cell_type": "code",
      "source": [
        "#средняя дальность поездки\n",
        "st.mean(com['distance_km'])"
      ],
      "metadata": {
        "colab": {
          "base_uri": "https://localhost:8080/"
        },
        "outputId": "e5af5db3-1ddb-4078-a775-e852ecb4bf21",
        "id": "Ci6ERLFgmX-D"
      },
      "execution_count": null,
      "outputs": [
        {
          "output_type": "execute_result",
          "data": {
            "text/plain": [
              "29.758909792274043"
            ]
          },
          "metadata": {},
          "execution_count": 27
        }
      ]
    },
    {
      "cell_type": "code",
      "source": [
        "#стандартное отклонение\n",
        "st.stdev(com['distance_km'])"
      ],
      "metadata": {
        "colab": {
          "base_uri": "https://localhost:8080/"
        },
        "outputId": "eaa13d2a-79b9-4a47-adda-bd05935e8e5d",
        "id": "wJpzShbHmX-U"
      },
      "execution_count": null,
      "outputs": [
        {
          "output_type": "execute_result",
          "data": {
            "text/plain": [
              "17.644643077451175"
            ]
          },
          "metadata": {},
          "execution_count": 28
        }
      ]
    },
    {
      "cell_type": "code",
      "source": [
        "#минимальная дистанция поездки или нулевой персентиль\n",
        "com['distance_km'].min()"
      ],
      "metadata": {
        "colab": {
          "base_uri": "https://localhost:8080/"
        },
        "outputId": "cbb20201-2d44-4327-c14e-c982de58f905",
        "id": "gfnE_koymX-U"
      },
      "execution_count": null,
      "outputs": [
        {
          "output_type": "execute_result",
          "data": {
            "text/plain": [
              "0.02425920721393027"
            ]
          },
          "metadata": {},
          "execution_count": 29
        }
      ]
    },
    {
      "cell_type": "code",
      "source": [
        "#25-й персентиль\n",
        "com['distance_km'].quantile(0.25)"
      ],
      "metadata": {
        "colab": {
          "base_uri": "https://localhost:8080/"
        },
        "outputId": "13f34e9e-0b2f-43b8-9742-978333f55385",
        "id": "kClwrjCbmX-V"
      },
      "execution_count": null,
      "outputs": [
        {
          "output_type": "execute_result",
          "data": {
            "text/plain": [
              "16.345205457764347"
            ]
          },
          "metadata": {},
          "execution_count": 30
        }
      ]
    },
    {
      "cell_type": "code",
      "source": [
        "#50-й персентиль или медиана\n",
        "com['distance_km'].quantile(0.50)"
      ],
      "metadata": {
        "colab": {
          "base_uri": "https://localhost:8080/"
        },
        "outputId": "bad06959-d50e-4b0d-ab4e-3909ffdcfcdd",
        "id": "J4kflvAvmX-V"
      },
      "execution_count": null,
      "outputs": [
        {
          "output_type": "execute_result",
          "data": {
            "text/plain": [
              "28.07827304470703"
            ]
          },
          "metadata": {},
          "execution_count": 31
        }
      ]
    },
    {
      "cell_type": "code",
      "source": [
        "#75-й персентиль\n",
        "com['distance_km'].quantile(0.75)"
      ],
      "metadata": {
        "colab": {
          "base_uri": "https://localhost:8080/"
        },
        "outputId": "1e715add-1689-464d-be72-2957d8ce54ba",
        "id": "ryseRwQmmX-W"
      },
      "execution_count": null,
      "outputs": [
        {
          "output_type": "execute_result",
          "data": {
            "text/plain": [
              "41.300649551156205"
            ]
          },
          "metadata": {},
          "execution_count": 32
        }
      ]
    },
    {
      "cell_type": "code",
      "source": [
        "#максимальная дистанция или сотый персентиль\n",
        "com['distance_km'].max()"
      ],
      "metadata": {
        "colab": {
          "base_uri": "https://localhost:8080/"
        },
        "outputId": "2db394e6-2786-491a-aa23-e6ca16bdf0a8",
        "id": "XgPoEsYXmX-W"
      },
      "execution_count": null,
      "outputs": [
        {
          "output_type": "execute_result",
          "data": {
            "text/plain": [
              "81.50702248866502"
            ]
          },
          "metadata": {},
          "execution_count": 33
        }
      ]
    },
    {
      "cell_type": "markdown",
      "source": [
        "**Проверяем гипотезу: “На дальние поездки, пользователи предпочитают Economy-классу более комфортные условия поездки – Comfort-класс”**"
      ],
      "metadata": {
        "id": "VtOBL_wUm39o"
      }
    },
    {
      "cell_type": "markdown",
      "source": [
        "**H0: Дистанции поездок не отличаются в зависимости от выбора класса поездки**"
      ],
      "metadata": {
        "id": "tMWdaGP3m5rL"
      }
    },
    {
      "cell_type": "markdown",
      "source": [
        "**H1: Дистанции поездок отличаются в зависимости от выбора класса поездки**"
      ],
      "metadata": {
        "id": "506Ra_ZWnDab"
      }
    },
    {
      "cell_type": "markdown",
      "source": [
        "Строим графики распределения по группам:"
      ],
      "metadata": {
        "id": "ylJ0LIR_mqsm"
      }
    },
    {
      "cell_type": "code",
      "source": [
        "sns.distplot(eco['distance_km'], 50)\n",
        "sns.distplot(com['distance_km'], 50)\n",
        "plt.title('Поездки Economy и Comfort')\n",
        "plt.legend(['Economy', 'Comfort'])\n",
        "plt.show()"
      ],
      "metadata": {
        "colab": {
          "base_uri": "https://localhost:8080/",
          "height": 389
        },
        "id": "mrtCFSrZE0uV",
        "outputId": "a25bda12-e0da-4a6f-ff50-c2a46f73dd91"
      },
      "execution_count": null,
      "outputs": [
        {
          "output_type": "stream",
          "name": "stderr",
          "text": [
            "/usr/local/lib/python3.7/dist-packages/seaborn/distributions.py:2619: FutureWarning: `distplot` is a deprecated function and will be removed in a future version. Please adapt your code to use either `displot` (a figure-level function with similar flexibility) or `histplot` (an axes-level function for histograms).\n",
            "  warnings.warn(msg, FutureWarning)\n",
            "/usr/local/lib/python3.7/dist-packages/seaborn/distributions.py:2619: FutureWarning: `distplot` is a deprecated function and will be removed in a future version. Please adapt your code to use either `displot` (a figure-level function with similar flexibility) or `histplot` (an axes-level function for histograms).\n",
            "  warnings.warn(msg, FutureWarning)\n"
          ]
        },
        {
          "output_type": "display_data",
          "data": {
            "text/plain": [
              "<Figure size 432x288 with 1 Axes>"
            ],
            "image/png": "[encoded data removed]"
          },
          "metadata": {
            "needs_background": "light"
          }
        }
      ]
    },
    {
      "cell_type": "markdown",
      "source": [
        "Из графиков видно, что при увеличении дальности поездки, класс Comfort пользуется большей популярностью, чем класс Economy. Проверим данное утверждения, проведя статистические тесты. "
      ],
      "metadata": {
        "id": "zmY4PUBonqhH"
      }
    },
    {
      "cell_type": "code",
      "source": [
        "from scipy.stats import ttest_ind\n",
        "from scipy.stats import mannwhitneyu\n",
        "\n",
        "alpha = 0.05"
      ],
      "metadata": {
        "id": "VVb8yfY5Gauf"
      },
      "execution_count": null,
      "outputs": []
    },
    {
      "cell_type": "markdown",
      "source": [
        "Т-тест (t-критерий Стьюдента)"
      ],
      "metadata": {
        "id": "1nnHd3LIoECu"
      }
    },
    {
      "cell_type": "code",
      "source": [
        "result = ttest_ind(com['distance_km'], eco['distance_km'])\n",
        "print('p-value: %8f' % result.pvalue)\n",
        "\n",
        "if (result.pvalue < alpha):\n",
        "   print('Отвергаем нулевую гипотезу')\n",
        "else: \n",
        "   print('Подтверждаем нулевую гипотезу')"
      ],
      "metadata": {
        "colab": {
          "base_uri": "https://localhost:8080/"
        },
        "id": "pS9Ef-VSLyuE",
        "outputId": "f5ca3a78-4adf-42cc-da4b-93a08e3d379c"
      },
      "execution_count": null,
      "outputs": [
        {
          "output_type": "stream",
          "name": "stdout",
          "text": [
            "p-value: 0.001568\n",
            "Отвергаем нулевую гипотезу\n"
          ]
        }
      ]
    },
    {
      "cell_type": "code",
      "source": [
        "#Принимаем H1: Дистанции поездок отличаются в зависимости от выбора класса поездки"
      ],
      "metadata": {
        "id": "w2G_hwSVoVrH"
      },
      "execution_count": null,
      "outputs": []
    },
    {
      "cell_type": "markdown",
      "source": [
        "Тест Манна-Уитни (U-критерий Манна-Уитни)"
      ],
      "metadata": {
        "id": "bf2EZM3YoOsS"
      }
    },
    {
      "cell_type": "code",
      "source": [
        "result = mannwhitneyu(com['distance_km'], eco['distance_km'])\n",
        "print('p-value: %8f' % result.pvalue)\n",
        "\n",
        "if (result.pvalue < alpha):\n",
        "   print('Отвергаем нулевую гипотезу')\n",
        "else: \n",
        "   print('Подтверждаем нулевую гипотезу')"
      ],
      "metadata": {
        "colab": {
          "base_uri": "https://localhost:8080/"
        },
        "id": "z16bcz18MIag",
        "outputId": "aff0ea86-c94b-4503-f7fd-51f0584f0084"
      },
      "execution_count": null,
      "outputs": [
        {
          "output_type": "stream",
          "name": "stdout",
          "text": [
            "p-value: 0.001285\n",
            "Отвергаем нулевую гипотезу\n"
          ]
        }
      ]
    },
    {
      "cell_type": "code",
      "source": [
        "#Принимаем H1: Дистанции поездок отличаются в зависимости от выбора класса поездки"
      ],
      "metadata": {
        "id": "njiJun8UonTy"
      },
      "execution_count": null,
      "outputs": []
    },
    {
      "cell_type": "markdown",
      "source": [
        "На основании проведенных тестов, а так же на основании описательной статистики и графика распределений, мы можем сделать вывод: \n",
        "> **На дальние поездки, пользователи предпочитают Economy-классу более комфортные условия поездки – Comfort-класс**\n",
        "\n"
      ],
      "metadata": {
        "id": "0r1kMfZjosDy"
      }
    }
  ]
}